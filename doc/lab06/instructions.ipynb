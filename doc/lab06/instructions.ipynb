{
 "cells": [
  {
   "cell_type": "markdown",
   "metadata": {},
   "source": [
    "# python\n",
    "\n",
    "## instrukcje sterujące"
   ]
  },
  {
   "cell_type": "markdown",
   "metadata": {},
   "source": [
    "Instrukcje `if..elif..else`"
   ]
  },
  {
   "cell_type": "code",
   "execution_count": 1,
   "metadata": {},
   "outputs": [
    {
     "name": "stdout",
     "output_type": "stream",
     "text": [
      "Wykonuję, bo warunek jest prawdziwy\n"
     ]
    }
   ],
   "source": [
    "if True:\n",
    "    print(\"Wykonuję, bo warunek jest prawdziwy\")\n",
    "else:\n",
    "    print(\"Tego nie wykonam\")"
   ]
  },
  {
   "cell_type": "code",
   "execution_count": 2,
   "metadata": {},
   "outputs": [
    {
     "name": "stdout",
     "output_type": "stream",
     "text": [
      "Wykonuję, bo warunek jest nie prawdziwy\n"
     ]
    }
   ],
   "source": [
    "if False:\n",
    "    print(\"Tego nie wykonam\")\n",
    "else:\n",
    "    print(\"Wykonuję, bo warunek jest nie prawdziwy\")"
   ]
  },
  {
   "cell_type": "code",
   "execution_count": 3,
   "metadata": {},
   "outputs": [],
   "source": [
    "def check(a):\n",
    "    if a > 0:\n",
    "        print(\"a jest większe od zera\")\n",
    "    elif a < 0:\n",
    "        print(\"a jest mniejsze od zera\")\n",
    "    elif a == 0:\n",
    "        print(\"a jest zerem\")\n",
    "    else:\n",
    "        print(\"a nie jest ani większe od zera, ani \"\n",
    "              \"mniejsze od zera, ani równe zero\")"
   ]
  },
  {
   "cell_type": "code",
   "execution_count": 4,
   "metadata": {},
   "outputs": [
    {
     "name": "stdout",
     "output_type": "stream",
     "text": [
      "a jest zerem\n"
     ]
    }
   ],
   "source": [
    "check(0)"
   ]
  },
  {
   "cell_type": "code",
   "execution_count": 5,
   "metadata": {},
   "outputs": [
    {
     "name": "stdout",
     "output_type": "stream",
     "text": [
      "a jest zerem\n"
     ]
    }
   ],
   "source": [
    "check(0.0)"
   ]
  },
  {
   "cell_type": "code",
   "execution_count": 6,
   "metadata": {},
   "outputs": [
    {
     "name": "stdout",
     "output_type": "stream",
     "text": [
      "a jest większe od zera\n"
     ]
    }
   ],
   "source": [
    "check(1/1000000000000000000)"
   ]
  },
  {
   "cell_type": "code",
   "execution_count": 7,
   "metadata": {},
   "outputs": [
    {
     "name": "stdout",
     "output_type": "stream",
     "text": [
      "a jest mniejsze od zera\n"
     ]
    }
   ],
   "source": [
    "check(-1/1000000000000000000)"
   ]
  },
  {
   "cell_type": "markdown",
   "metadata": {},
   "source": [
    "Instrukcja `while` (`while..else`) oraz `break` i `continue`"
   ]
  },
  {
   "cell_type": "code",
   "execution_count": 8,
   "metadata": {},
   "outputs": [
    {
     "name": "stdout",
     "output_type": "stream",
     "text": [
      "3\n",
      "2\n",
      "1\n",
      "0\n"
     ]
    }
   ],
   "source": [
    "a = 3\n",
    "while a > 0:\n",
    "    print(a)\n",
    "    a = a - 1\n",
    "print(a)"
   ]
  },
  {
   "cell_type": "code",
   "execution_count": 9,
   "metadata": {},
   "outputs": [
    {
     "name": "stdout",
     "output_type": "stream",
     "text": [
      "a jest zbyt małe..\n",
      "-1\n"
     ]
    }
   ],
   "source": [
    "a = -1\n",
    "while a > 0:\n",
    "    print(a)\n",
    "    a = a - 1\n",
    "else:\n",
    "    print(\"a jest zbyt małe..\")\n",
    "print(a)"
   ]
  },
  {
   "cell_type": "code",
   "execution_count": 10,
   "metadata": {},
   "outputs": [
    {
     "name": "stdout",
     "output_type": "stream",
     "text": [
      "3\n",
      "2\n",
      "1\n"
     ]
    }
   ],
   "source": [
    "a = 3\n",
    "while True:\n",
    "    if a <= 0:\n",
    "        break\n",
    "    print(a)\n",
    "    a = a - 1"
   ]
  },
  {
   "cell_type": "code",
   "execution_count": 11,
   "metadata": {},
   "outputs": [
    {
     "name": "stdout",
     "output_type": "stream",
     "text": [
      "9\n",
      "Nieparzysta\n",
      "6\n",
      "5\n",
      "Nieparzysta\n",
      "2\n",
      "1\n",
      "Nieparzysta\n"
     ]
    }
   ],
   "source": [
    "a = 9\n",
    "while True:\n",
    "    if a <= 0:\n",
    "        break\n",
    "    print(a)\n",
    "    if a % 2:\n",
    "        print('Nieparzysta')\n",
    "        a = a - 3\n",
    "        continue\n",
    "    a = a - 1"
   ]
  },
  {
   "cell_type": "markdown",
   "metadata": {},
   "source": [
    "Instrukcja `for` (`for..else`) oraz `break` i `continue`"
   ]
  },
  {
   "cell_type": "code",
   "execution_count": 12,
   "metadata": {},
   "outputs": [
    {
     "name": "stdout",
     "output_type": "stream",
     "text": [
      "0\n",
      "1\n",
      "2\n",
      "3\n"
     ]
    }
   ],
   "source": [
    "for a in range(4):\n",
    "    print(a)"
   ]
  },
  {
   "cell_type": "code",
   "execution_count": 13,
   "metadata": {},
   "outputs": [
    {
     "name": "stdout",
     "output_type": "stream",
     "text": [
      "Więc mogę zrobić coś tutaj\n"
     ]
    }
   ],
   "source": [
    "for a in []:\n",
    "    print(\"Tutaj nic nie zrobię, bo nie mam na czym..\")\n",
    "else:\n",
    "    print(\"Więc mogę zrobić coś tutaj\")"
   ]
  },
  {
   "cell_type": "code",
   "execution_count": 14,
   "metadata": {},
   "outputs": [
    {
     "name": "stdout",
     "output_type": "stream",
     "text": [
      "0\n",
      "1\n",
      "2\n",
      "3\n",
      "Przerywam\n"
     ]
    }
   ],
   "source": [
    "for a in range(6):\n",
    "    print(a)\n",
    "    if a > 2:\n",
    "        print(\"Przerywam\")\n",
    "        break"
   ]
  },
  {
   "cell_type": "code",
   "execution_count": 15,
   "metadata": {},
   "outputs": [
    {
     "name": "stdout",
     "output_type": "stream",
     "text": [
      "0\n",
      "1\n",
      "Nieparzysta, nie dodaję do wspólnej sumy\n",
      "2\n",
      "3\n",
      "Nieparzysta, nie dodaję do wspólnej sumy\n",
      "4\n",
      "5\n",
      "Nieparzysta, nie dodaję do wspólnej sumy\n",
      "Suma to: 6\n"
     ]
    }
   ],
   "source": [
    "s = 0\n",
    "for a in range(6):\n",
    "    print(a)\n",
    "    if a % 2:\n",
    "        print(\"Nieparzysta, nie dodaję do wspólnej sumy\")\n",
    "        continue\n",
    "    s += a\n",
    "print(\"Suma to: %d\" % s)"
   ]
  },
  {
   "cell_type": "markdown",
   "metadata": {},
   "source": [
    "Instrukcje `try..except..else..finally`"
   ]
  },
  {
   "cell_type": "code",
   "execution_count": 16,
   "metadata": {},
   "outputs": [],
   "source": [
    "class ExcA(Exception):\n",
    "    pass\n",
    "\n",
    "class ExcB(Exception):\n",
    "    pass\n",
    "\n",
    "class ExcC(ExcA):\n",
    "    pass"
   ]
  },
  {
   "cell_type": "code",
   "execution_count": 17,
   "metadata": {},
   "outputs": [
    {
     "name": "stdout",
     "output_type": "stream",
     "text": [
      "ExcA\n"
     ]
    }
   ],
   "source": [
    "try:\n",
    "    raise ExcA\n",
    "except ExcA:\n",
    "    print(\"ExcA\")"
   ]
  },
  {
   "cell_type": "code",
   "execution_count": 18,
   "metadata": {},
   "outputs": [
    {
     "name": "stdout",
     "output_type": "stream",
     "text": [
      "ExcA\n"
     ]
    }
   ],
   "source": [
    "try:\n",
    "    raise ExcA\n",
    "except ExcC:\n",
    "    print(\"ExcC\")\n",
    "except ExcA:\n",
    "    print(\"ExcA\")"
   ]
  },
  {
   "cell_type": "code",
   "execution_count": 19,
   "metadata": {},
   "outputs": [
    {
     "name": "stdout",
     "output_type": "stream",
     "text": [
      "ExcC\n"
     ]
    }
   ],
   "source": [
    "try:\n",
    "    raise ExcC\n",
    "except ExcC:\n",
    "    print(\"ExcC\")\n",
    "except ExcA:\n",
    "    print(\"ExcA\")"
   ]
  },
  {
   "cell_type": "code",
   "execution_count": 20,
   "metadata": {},
   "outputs": [
    {
     "name": "stdout",
     "output_type": "stream",
     "text": [
      "ExcA\n"
     ]
    }
   ],
   "source": [
    "try:\n",
    "    raise ExcC\n",
    "except ExcA:\n",
    "    print(\"ExcA\")\n",
    "except ExcC:\n",
    "    print(\"ExcC\")"
   ]
  },
  {
   "cell_type": "code",
   "execution_count": 21,
   "metadata": {},
   "outputs": [
    {
     "ename": "ExcB",
     "evalue": "",
     "output_type": "error",
     "traceback": [
      "\u001b[0;31m---------------------------------------------------------------------------\u001b[0m",
      "\u001b[0;31mExcB\u001b[0m                                      Traceback (most recent call last)",
      "\u001b[0;32m<ipython-input-21-6268e625cb97>\u001b[0m in \u001b[0;36m<module>\u001b[0;34m\u001b[0m\n\u001b[1;32m      1\u001b[0m \u001b[0;32mtry\u001b[0m\u001b[0;34m:\u001b[0m\u001b[0;34m\u001b[0m\u001b[0;34m\u001b[0m\u001b[0m\n\u001b[0;32m----> 2\u001b[0;31m     \u001b[0;32mraise\u001b[0m \u001b[0mExcB\u001b[0m\u001b[0;34m\u001b[0m\u001b[0;34m\u001b[0m\u001b[0m\n\u001b[0m\u001b[1;32m      3\u001b[0m \u001b[0;32mexcept\u001b[0m \u001b[0mExcA\u001b[0m\u001b[0;34m:\u001b[0m\u001b[0;34m\u001b[0m\u001b[0;34m\u001b[0m\u001b[0m\n\u001b[1;32m      4\u001b[0m     \u001b[0mprint\u001b[0m\u001b[0;34m(\u001b[0m\u001b[0;34m\"ExcA\"\u001b[0m\u001b[0;34m)\u001b[0m\u001b[0;34m\u001b[0m\u001b[0;34m\u001b[0m\u001b[0m\n",
      "\u001b[0;31mExcB\u001b[0m: "
     ]
    }
   ],
   "source": [
    "try:\n",
    "    raise ExcB\n",
    "except ExcA:\n",
    "    print(\"ExcA\")"
   ]
  },
  {
   "cell_type": "code",
   "execution_count": 22,
   "metadata": {},
   "outputs": [
    {
     "name": "stdout",
     "output_type": "stream",
     "text": [
      "Nic się nie dzieje\n",
      "Nic się nie stało?\n"
     ]
    }
   ],
   "source": [
    "try:\n",
    "    print(\"Nic się nie dzieje\")\n",
    "except ExcA:\n",
    "    print(\"ExcA\")\n",
    "else:\n",
    "    print(\"Nic się nie stało?\")"
   ]
  },
  {
   "cell_type": "code",
   "execution_count": 23,
   "metadata": {},
   "outputs": [
    {
     "name": "stdout",
     "output_type": "stream",
     "text": [
      "ExcA\n"
     ]
    }
   ],
   "source": [
    "try:\n",
    "    raise ExcA\n",
    "except ExcA:\n",
    "    print(\"ExcA\")\n",
    "else:\n",
    "    print(\"Nic się nie stało?\")"
   ]
  },
  {
   "cell_type": "code",
   "execution_count": 24,
   "metadata": {},
   "outputs": [
    {
     "name": "stdout",
     "output_type": "stream",
     "text": [
      "Nic się nie dzieje\n",
      "Nic się nie stało?\n",
      "To zawsze się wykona!\n",
      "\n",
      "Nic się nie dzieje\n",
      "To zawsze się wykona!\n"
     ]
    }
   ],
   "source": [
    "try:\n",
    "    print(\"Nic się nie dzieje\")\n",
    "except ExcA:\n",
    "    print(\"ExcA\")\n",
    "else:\n",
    "    print(\"Nic się nie stało?\")\n",
    "finally:\n",
    "    print(\"To zawsze się wykona!\")\n",
    "print()\n",
    "try:\n",
    "    print(\"Nic się nie dzieje\")\n",
    "except ExcA:\n",
    "    print(\"ExcA\")\n",
    "finally:\n",
    "    print(\"To zawsze się wykona!\")"
   ]
  },
  {
   "cell_type": "code",
   "execution_count": 25,
   "metadata": {},
   "outputs": [
    {
     "name": "stdout",
     "output_type": "stream",
     "text": [
      "ExcA\n",
      "To zawsze się wykona!\n",
      "\n",
      "ExcA\n",
      "To zawsze się wykona!\n"
     ]
    }
   ],
   "source": [
    "try:\n",
    "    raise ExcA\n",
    "except ExcA:\n",
    "    print(\"ExcA\")\n",
    "else:\n",
    "    print(\"Nic się nie stało?\")\n",
    "finally:\n",
    "    print(\"To zawsze się wykona!\")\n",
    "print()\n",
    "try:\n",
    "    raise ExcA\n",
    "except ExcA:\n",
    "    print(\"ExcA\")\n",
    "finally:\n",
    "    print(\"To zawsze się wykona!\")"
   ]
  },
  {
   "cell_type": "code",
   "execution_count": 26,
   "metadata": {},
   "outputs": [
    {
     "name": "stdout",
     "output_type": "stream",
     "text": [
      "Coś się stało.. coś z tym zrobię i podam dalej\n",
      "Zrobię coś jeszcze, co robię zawsze\n"
     ]
    },
    {
     "ename": "ExcA",
     "evalue": "",
     "output_type": "error",
     "traceback": [
      "\u001b[0;31m---------------------------------------------------------------------------\u001b[0m",
      "\u001b[0;31mExcA\u001b[0m                                      Traceback (most recent call last)",
      "\u001b[0;32m<ipython-input-26-d51f955cebb8>\u001b[0m in \u001b[0;36m<module>\u001b[0;34m\u001b[0m\n\u001b[1;32m      1\u001b[0m \u001b[0;32mtry\u001b[0m\u001b[0;34m:\u001b[0m\u001b[0;34m\u001b[0m\u001b[0;34m\u001b[0m\u001b[0m\n\u001b[0;32m----> 2\u001b[0;31m     \u001b[0;32mraise\u001b[0m \u001b[0mExcA\u001b[0m\u001b[0;34m\u001b[0m\u001b[0;34m\u001b[0m\u001b[0m\n\u001b[0m\u001b[1;32m      3\u001b[0m \u001b[0;32mexcept\u001b[0m \u001b[0mExcA\u001b[0m\u001b[0;34m:\u001b[0m\u001b[0;34m\u001b[0m\u001b[0;34m\u001b[0m\u001b[0m\n\u001b[1;32m      4\u001b[0m     \u001b[0mprint\u001b[0m\u001b[0;34m(\u001b[0m\u001b[0;34m\"Coś się stało.. coś z tym zrobię i podam dalej\"\u001b[0m\u001b[0;34m)\u001b[0m\u001b[0;34m\u001b[0m\u001b[0;34m\u001b[0m\u001b[0m\n\u001b[1;32m      5\u001b[0m     \u001b[0;32mraise\u001b[0m\u001b[0;34m\u001b[0m\u001b[0;34m\u001b[0m\u001b[0m\n",
      "\u001b[0;31mExcA\u001b[0m: "
     ]
    }
   ],
   "source": [
    "try:\n",
    "    raise ExcA\n",
    "except ExcA:\n",
    "    print(\"Coś się stało.. coś z tym zrobię i podam dalej\")\n",
    "    raise\n",
    "finally:\n",
    "    print(\"Zrobię coś jeszcze, co robię zawsze\")"
   ]
  },
  {
   "cell_type": "code",
   "execution_count": 27,
   "metadata": {},
   "outputs": [],
   "source": [
    "try:\n",
    "    raise ExcA\n",
    "except ExcA:\n",
    "    pass # silenty..?"
   ]
  },
  {
   "cell_type": "markdown",
   "metadata": {},
   "source": [
    "![](https://memegenerator.net/img/instances/x300/74977713.jpg)"
   ]
  },
  {
   "cell_type": "code",
   "execution_count": 28,
   "metadata": {},
   "outputs": [
    {
     "ename": "ExcB",
     "evalue": "",
     "output_type": "error",
     "traceback": [
      "\u001b[0;31m---------------------------------------------------------------------------\u001b[0m",
      "\u001b[0;31mExcA\u001b[0m                                      Traceback (most recent call last)",
      "\u001b[0;32m<ipython-input-28-89d41e23993d>\u001b[0m in \u001b[0;36m<module>\u001b[0;34m\u001b[0m\n\u001b[1;32m      1\u001b[0m \u001b[0;32mtry\u001b[0m\u001b[0;34m:\u001b[0m\u001b[0;34m\u001b[0m\u001b[0;34m\u001b[0m\u001b[0m\n\u001b[0;32m----> 2\u001b[0;31m     \u001b[0;32mraise\u001b[0m \u001b[0mExcA\u001b[0m\u001b[0;34m\u001b[0m\u001b[0;34m\u001b[0m\u001b[0m\n\u001b[0m\u001b[1;32m      3\u001b[0m \u001b[0;32mexcept\u001b[0m \u001b[0mExcA\u001b[0m\u001b[0;34m:\u001b[0m\u001b[0;34m\u001b[0m\u001b[0;34m\u001b[0m\u001b[0m\n",
      "\u001b[0;31mExcA\u001b[0m: ",
      "\nDuring handling of the above exception, another exception occurred:\n",
      "\u001b[0;31mExcB\u001b[0m                                      Traceback (most recent call last)",
      "\u001b[0;32m<ipython-input-28-89d41e23993d>\u001b[0m in \u001b[0;36m<module>\u001b[0;34m\u001b[0m\n\u001b[1;32m      2\u001b[0m     \u001b[0;32mraise\u001b[0m \u001b[0mExcA\u001b[0m\u001b[0;34m\u001b[0m\u001b[0;34m\u001b[0m\u001b[0m\n\u001b[1;32m      3\u001b[0m \u001b[0;32mexcept\u001b[0m \u001b[0mExcA\u001b[0m\u001b[0;34m:\u001b[0m\u001b[0;34m\u001b[0m\u001b[0;34m\u001b[0m\u001b[0m\n\u001b[0;32m----> 4\u001b[0;31m     \u001b[0;32mraise\u001b[0m \u001b[0mExcB\u001b[0m\u001b[0;34m\u001b[0m\u001b[0;34m\u001b[0m\u001b[0m\n\u001b[0m",
      "\u001b[0;31mExcB\u001b[0m: "
     ]
    }
   ],
   "source": [
    "try:\n",
    "    raise ExcA\n",
    "except ExcA:\n",
    "    raise ExcB"
   ]
  },
  {
   "cell_type": "markdown",
   "metadata": {},
   "source": [
    "Instrukcja `with`"
   ]
  },
  {
   "cell_type": "code",
   "execution_count": 29,
   "metadata": {},
   "outputs": [
    {
     "name": "stdout",
     "output_type": "stream",
     "text": [
      "Początek\n",
      "Środeczek\n",
      "Koniec\n"
     ]
    }
   ],
   "source": [
    "class Context(object):\n",
    "    def __enter__(self):\n",
    "        print('Początek')\n",
    "    def __exit__(self, exc_type, exc_value, traceback):\n",
    "        print('Koniec')\n",
    "\n",
    "with Context():\n",
    "    print('Środeczek')"
   ]
  },
  {
   "cell_type": "code",
   "execution_count": 30,
   "metadata": {},
   "outputs": [
    {
     "name": "stdout",
     "output_type": "stream",
     "text": [
      "Początek\n",
      "Środeczek\n",
      "Koniec\n"
     ]
    },
    {
     "ename": "Exception",
     "evalue": "",
     "output_type": "error",
     "traceback": [
      "\u001b[0;31m---------------------------------------------------------------------------\u001b[0m",
      "\u001b[0;31mException\u001b[0m                                 Traceback (most recent call last)",
      "\u001b[0;32m<ipython-input-30-21b6d162fc5a>\u001b[0m in \u001b[0;36m<module>\u001b[0;34m\u001b[0m\n\u001b[1;32m      1\u001b[0m \u001b[0;32mwith\u001b[0m \u001b[0mContext\u001b[0m\u001b[0;34m(\u001b[0m\u001b[0;34m)\u001b[0m\u001b[0;34m:\u001b[0m\u001b[0;34m\u001b[0m\u001b[0;34m\u001b[0m\u001b[0m\n\u001b[1;32m      2\u001b[0m     \u001b[0mprint\u001b[0m\u001b[0;34m(\u001b[0m\u001b[0;34m'Środeczek'\u001b[0m\u001b[0;34m)\u001b[0m\u001b[0;34m\u001b[0m\u001b[0;34m\u001b[0m\u001b[0m\n\u001b[0;32m----> 3\u001b[0;31m     \u001b[0;32mraise\u001b[0m \u001b[0mException\u001b[0m\u001b[0;34m\u001b[0m\u001b[0;34m\u001b[0m\u001b[0m\n\u001b[0m",
      "\u001b[0;31mException\u001b[0m: "
     ]
    }
   ],
   "source": [
    "with Context():\n",
    "    print('Środeczek')\n",
    "    raise Exception"
   ]
  },
  {
   "cell_type": "code",
   "execution_count": 31,
   "metadata": {},
   "outputs": [
    {
     "name": "stdout",
     "output_type": "stream",
     "text": [
      "Początek\n"
     ]
    },
    {
     "ename": "Exception",
     "evalue": "",
     "output_type": "error",
     "traceback": [
      "\u001b[0;31m---------------------------------------------------------------------------\u001b[0m",
      "\u001b[0;31mException\u001b[0m                                 Traceback (most recent call last)",
      "\u001b[0;32m<ipython-input-31-b3eccc3de7bb>\u001b[0m in \u001b[0;36m<module>\u001b[0;34m\u001b[0m\n\u001b[1;32m      6\u001b[0m         \u001b[0mprint\u001b[0m\u001b[0;34m(\u001b[0m\u001b[0;34m'Koniec'\u001b[0m\u001b[0;34m)\u001b[0m\u001b[0;34m\u001b[0m\u001b[0;34m\u001b[0m\u001b[0m\n\u001b[1;32m      7\u001b[0m \u001b[0;34m\u001b[0m\u001b[0m\n\u001b[0;32m----> 8\u001b[0;31m \u001b[0;32mwith\u001b[0m \u001b[0mContext\u001b[0m\u001b[0;34m(\u001b[0m\u001b[0;34m)\u001b[0m\u001b[0;34m:\u001b[0m\u001b[0;34m\u001b[0m\u001b[0;34m\u001b[0m\u001b[0m\n\u001b[0m\u001b[1;32m      9\u001b[0m     \u001b[0mprint\u001b[0m\u001b[0;34m(\u001b[0m\u001b[0;34m'Środeczek'\u001b[0m\u001b[0;34m)\u001b[0m\u001b[0;34m\u001b[0m\u001b[0;34m\u001b[0m\u001b[0m\n",
      "\u001b[0;32m<ipython-input-31-b3eccc3de7bb>\u001b[0m in \u001b[0;36m__enter__\u001b[0;34m(self)\u001b[0m\n\u001b[1;32m      2\u001b[0m     \u001b[0;32mdef\u001b[0m \u001b[0m__enter__\u001b[0m\u001b[0;34m(\u001b[0m\u001b[0mself\u001b[0m\u001b[0;34m)\u001b[0m\u001b[0;34m:\u001b[0m\u001b[0;34m\u001b[0m\u001b[0;34m\u001b[0m\u001b[0m\n\u001b[1;32m      3\u001b[0m         \u001b[0mprint\u001b[0m\u001b[0;34m(\u001b[0m\u001b[0;34m'Początek'\u001b[0m\u001b[0;34m)\u001b[0m\u001b[0;34m\u001b[0m\u001b[0;34m\u001b[0m\u001b[0m\n\u001b[0;32m----> 4\u001b[0;31m         \u001b[0;32mraise\u001b[0m \u001b[0mException\u001b[0m\u001b[0;34m\u001b[0m\u001b[0;34m\u001b[0m\u001b[0m\n\u001b[0m\u001b[1;32m      5\u001b[0m     \u001b[0;32mdef\u001b[0m \u001b[0m__exit__\u001b[0m\u001b[0;34m(\u001b[0m\u001b[0mself\u001b[0m\u001b[0;34m,\u001b[0m \u001b[0mexc_type\u001b[0m\u001b[0;34m,\u001b[0m \u001b[0mexc_value\u001b[0m\u001b[0;34m,\u001b[0m \u001b[0mtraceback\u001b[0m\u001b[0;34m)\u001b[0m\u001b[0;34m:\u001b[0m\u001b[0;34m\u001b[0m\u001b[0;34m\u001b[0m\u001b[0m\n\u001b[1;32m      6\u001b[0m         \u001b[0mprint\u001b[0m\u001b[0;34m(\u001b[0m\u001b[0;34m'Koniec'\u001b[0m\u001b[0;34m)\u001b[0m\u001b[0;34m\u001b[0m\u001b[0;34m\u001b[0m\u001b[0m\n",
      "\u001b[0;31mException\u001b[0m: "
     ]
    }
   ],
   "source": [
    "class Context(object):\n",
    "    def __enter__(self):\n",
    "        print('Początek')\n",
    "        raise Exception\n",
    "    def __exit__(self, exc_type, exc_value, traceback):\n",
    "        print('Koniec')\n",
    "\n",
    "with Context():\n",
    "    print('Środeczek')"
   ]
  },
  {
   "cell_type": "code",
   "execution_count": 32,
   "metadata": {},
   "outputs": [
    {
     "name": "stdout",
     "output_type": "stream",
     "text": [
      "Początek\n",
      "Środeczek\n",
      "Koniec\n"
     ]
    },
    {
     "ename": "Exception",
     "evalue": "",
     "output_type": "error",
     "traceback": [
      "\u001b[0;31m---------------------------------------------------------------------------\u001b[0m",
      "\u001b[0;31mException\u001b[0m                                 Traceback (most recent call last)",
      "\u001b[0;32m<ipython-input-32-1680ee41b62a>\u001b[0m in \u001b[0;36m<module>\u001b[0;34m\u001b[0m\n\u001b[1;32m      7\u001b[0m \u001b[0;34m\u001b[0m\u001b[0m\n\u001b[1;32m      8\u001b[0m \u001b[0;32mwith\u001b[0m \u001b[0mContext\u001b[0m\u001b[0;34m(\u001b[0m\u001b[0;34m)\u001b[0m\u001b[0;34m:\u001b[0m\u001b[0;34m\u001b[0m\u001b[0;34m\u001b[0m\u001b[0m\n\u001b[0;32m----> 9\u001b[0;31m     \u001b[0mprint\u001b[0m\u001b[0;34m(\u001b[0m\u001b[0;34m'Środeczek'\u001b[0m\u001b[0;34m)\u001b[0m\u001b[0;34m\u001b[0m\u001b[0;34m\u001b[0m\u001b[0m\n\u001b[0m",
      "\u001b[0;32m<ipython-input-32-1680ee41b62a>\u001b[0m in \u001b[0;36m__exit__\u001b[0;34m(self, exc_type, exc_value, traceback)\u001b[0m\n\u001b[1;32m      4\u001b[0m     \u001b[0;32mdef\u001b[0m \u001b[0m__exit__\u001b[0m\u001b[0;34m(\u001b[0m\u001b[0mself\u001b[0m\u001b[0;34m,\u001b[0m \u001b[0mexc_type\u001b[0m\u001b[0;34m,\u001b[0m \u001b[0mexc_value\u001b[0m\u001b[0;34m,\u001b[0m \u001b[0mtraceback\u001b[0m\u001b[0;34m)\u001b[0m\u001b[0;34m:\u001b[0m\u001b[0;34m\u001b[0m\u001b[0;34m\u001b[0m\u001b[0m\n\u001b[1;32m      5\u001b[0m         \u001b[0mprint\u001b[0m\u001b[0;34m(\u001b[0m\u001b[0;34m'Koniec'\u001b[0m\u001b[0;34m)\u001b[0m\u001b[0;34m\u001b[0m\u001b[0;34m\u001b[0m\u001b[0m\n\u001b[0;32m----> 6\u001b[0;31m         \u001b[0;32mraise\u001b[0m \u001b[0mException\u001b[0m\u001b[0;34m\u001b[0m\u001b[0;34m\u001b[0m\u001b[0m\n\u001b[0m\u001b[1;32m      7\u001b[0m \u001b[0;34m\u001b[0m\u001b[0m\n\u001b[1;32m      8\u001b[0m \u001b[0;32mwith\u001b[0m \u001b[0mContext\u001b[0m\u001b[0;34m(\u001b[0m\u001b[0;34m)\u001b[0m\u001b[0;34m:\u001b[0m\u001b[0;34m\u001b[0m\u001b[0;34m\u001b[0m\u001b[0m\n",
      "\u001b[0;31mException\u001b[0m: "
     ]
    }
   ],
   "source": [
    "class Context(object):\n",
    "    def __enter__(self):\n",
    "        print('Początek')\n",
    "    def __exit__(self, exc_type, exc_value, traceback):\n",
    "        print('Koniec')\n",
    "        raise Exception\n",
    "\n",
    "with Context():\n",
    "    print('Środeczek')"
   ]
  },
  {
   "cell_type": "code",
   "execution_count": 33,
   "metadata": {},
   "outputs": [
    {
     "name": "stdout",
     "output_type": "stream",
     "text": [
      "Początek\n",
      "Środeczek\n",
      "Jest wyjątek <class 'Exception'> z jakiś błąd\n",
      "Koniec\n"
     ]
    },
    {
     "ename": "Exception",
     "evalue": "jakiś błąd",
     "output_type": "error",
     "traceback": [
      "\u001b[0;31m---------------------------------------------------------------------------\u001b[0m",
      "\u001b[0;31mException\u001b[0m                                 Traceback (most recent call last)",
      "\u001b[0;32m<ipython-input-33-6b1b9ac63cba>\u001b[0m in \u001b[0;36m<module>\u001b[0;34m\u001b[0m\n\u001b[1;32m      8\u001b[0m \u001b[0;32mwith\u001b[0m \u001b[0mContext\u001b[0m\u001b[0;34m(\u001b[0m\u001b[0;34m)\u001b[0m\u001b[0;34m:\u001b[0m\u001b[0;34m\u001b[0m\u001b[0;34m\u001b[0m\u001b[0m\n\u001b[1;32m      9\u001b[0m     \u001b[0mprint\u001b[0m\u001b[0;34m(\u001b[0m\u001b[0;34m'Środeczek'\u001b[0m\u001b[0;34m)\u001b[0m\u001b[0;34m\u001b[0m\u001b[0;34m\u001b[0m\u001b[0m\n\u001b[0;32m---> 10\u001b[0;31m     \u001b[0;32mraise\u001b[0m \u001b[0mException\u001b[0m\u001b[0;34m(\u001b[0m\u001b[0;34m'jakiś błąd'\u001b[0m\u001b[0;34m)\u001b[0m\u001b[0;34m\u001b[0m\u001b[0;34m\u001b[0m\u001b[0m\n\u001b[0m",
      "\u001b[0;31mException\u001b[0m: jakiś błąd"
     ]
    }
   ],
   "source": [
    "class Context(object):\n",
    "    def __enter__(self):\n",
    "        print('Początek')\n",
    "    def __exit__(self, exc_type, exc_value, traceback):\n",
    "        print('Jest wyjątek %s z %s' % (str(exc_type), str(exc_value)))\n",
    "        print('Koniec')\n",
    "\n",
    "with Context():\n",
    "    print('Środeczek')\n",
    "    raise Exception('jakiś błąd')"
   ]
  },
  {
   "cell_type": "code",
   "execution_count": 34,
   "metadata": {},
   "outputs": [
    {
     "name": "stdout",
     "output_type": "stream",
     "text": [
      "Początek\n",
      "Środeczek\n",
      "Koniec\n",
      "Jest wyjątek <class 'Exception'> z jakiś błąd\n"
     ]
    }
   ],
   "source": [
    "class Context(object):\n",
    "    def __enter__(self):\n",
    "        print('Początek')\n",
    "    def __exit__(self, exc_type, exc_value, traceback):\n",
    "        print('Koniec')\n",
    "        if exc_type and exc_value:\n",
    "            print('Jest wyjątek %s z %s' % (str(exc_type), str(exc_value)))\n",
    "        return True\n",
    "\n",
    "with Context():\n",
    "    print('Środeczek')\n",
    "    raise Exception('jakiś błąd')"
   ]
  },
  {
   "cell_type": "code",
   "execution_count": 35,
   "metadata": {},
   "outputs": [
    {
     "name": "stdout",
     "output_type": "stream",
     "text": [
      "Początek\n",
      "Środeczek\n",
      "Koniec\n"
     ]
    }
   ],
   "source": [
    "with Context():\n",
    "    print('Środeczek')"
   ]
  }
 ],
 "metadata": {
  "kernelspec": {
   "display_name": "Python 3",
   "language": "python",
   "name": "python3"
  },
  "language_info": {
   "codemirror_mode": {
    "name": "ipython",
    "version": 3
   },
   "file_extension": ".py",
   "mimetype": "text/x-python",
   "name": "python",
   "nbconvert_exporter": "python",
   "pygments_lexer": "ipython3",
   "version": "3.7.3"
  }
 },
 "nbformat": 4,
 "nbformat_minor": 2
}
