{
 "cells": [
  {
   "cell_type": "markdown",
   "metadata": {},
   "source": [
    "# python\n",
    "\n",
    "## Typy podstawowe\n",
    "\n",
    "### Zbiory"
   ]
  },
  {
   "cell_type": "markdown",
   "metadata": {},
   "source": [
    "Operacje tworzenia, dodawania, wyciągania, czyszczenia i usuwania."
   ]
  },
  {
   "cell_type": "code",
   "execution_count": 1,
   "metadata": {},
   "outputs": [
    {
     "data": {
      "text/plain": [
       "{}"
      ]
     },
     "execution_count": 1,
     "metadata": {},
     "output_type": "execute_result"
    }
   ],
   "source": [
    "d = dict()\n",
    "d"
   ]
  },
  {
   "cell_type": "code",
   "execution_count": 2,
   "metadata": {},
   "outputs": [
    {
     "data": {
      "text/plain": [
       "{'0': 0}"
      ]
     },
     "execution_count": 2,
     "metadata": {},
     "output_type": "execute_result"
    }
   ],
   "source": [
    "d['0'] = 0\n",
    "d"
   ]
  },
  {
   "cell_type": "code",
   "execution_count": 3,
   "metadata": {},
   "outputs": [
    {
     "data": {
      "text/plain": [
       "0"
      ]
     },
     "execution_count": 3,
     "metadata": {},
     "output_type": "execute_result"
    }
   ],
   "source": [
    "d['0']"
   ]
  },
  {
   "cell_type": "code",
   "execution_count": 4,
   "metadata": {},
   "outputs": [
    {
     "data": {
      "text/plain": [
       "0"
      ]
     },
     "execution_count": 4,
     "metadata": {},
     "output_type": "execute_result"
    }
   ],
   "source": [
    "d.get('0')"
   ]
  },
  {
   "cell_type": "code",
   "execution_count": 5,
   "metadata": {},
   "outputs": [
    {
     "data": {
      "text/plain": [
       "1"
      ]
     },
     "execution_count": 5,
     "metadata": {},
     "output_type": "execute_result"
    }
   ],
   "source": [
    "len(d)"
   ]
  },
  {
   "cell_type": "code",
   "execution_count": 6,
   "metadata": {},
   "outputs": [
    {
     "data": {
      "text/plain": [
       "0"
      ]
     },
     "execution_count": 6,
     "metadata": {},
     "output_type": "execute_result"
    }
   ],
   "source": [
    "d.pop('0')"
   ]
  },
  {
   "cell_type": "code",
   "execution_count": 7,
   "metadata": {},
   "outputs": [
    {
     "data": {
      "text/plain": [
       "{}"
      ]
     },
     "execution_count": 7,
     "metadata": {},
     "output_type": "execute_result"
    }
   ],
   "source": [
    "d"
   ]
  },
  {
   "cell_type": "code",
   "execution_count": 8,
   "metadata": {},
   "outputs": [
    {
     "name": "stdout",
     "output_type": "stream",
     "text": [
      "Najczęstszy błąd..\n"
     ]
    }
   ],
   "source": [
    "try:\n",
    "    d['0']\n",
    "except KeyError:\n",
    "    print(\"Najczęstszy błąd..\")"
   ]
  },
  {
   "cell_type": "code",
   "execution_count": 9,
   "metadata": {},
   "outputs": [
    {
     "name": "stdout",
     "output_type": "stream",
     "text": [
      "Najczęstszy błąd..\n"
     ]
    }
   ],
   "source": [
    "try:\n",
    "    d.pop('0')\n",
    "except KeyError:\n",
    "    print(\"Najczęstszy błąd..\")"
   ]
  },
  {
   "cell_type": "code",
   "execution_count": 10,
   "metadata": {},
   "outputs": [],
   "source": [
    "# To już jest bezpieczniejsze, bo zwraca nic, jak nie ma tego czegoś.\n",
    "d.get('0')"
   ]
  },
  {
   "cell_type": "code",
   "execution_count": 11,
   "metadata": {},
   "outputs": [
    {
     "data": {
      "text/plain": [
       "{}"
      ]
     },
     "execution_count": 11,
     "metadata": {},
     "output_type": "execute_result"
    }
   ],
   "source": [
    "d = {'0': 0}\n",
    "del d['0']\n",
    "d"
   ]
  },
  {
   "cell_type": "code",
   "execution_count": 12,
   "metadata": {},
   "outputs": [
    {
     "data": {
      "text/plain": [
       "{}"
      ]
     },
     "execution_count": 12,
     "metadata": {},
     "output_type": "execute_result"
    }
   ],
   "source": [
    "d = {'0': 0}\n",
    "d.clear()\n",
    "d"
   ]
  },
  {
   "cell_type": "markdown",
   "metadata": {},
   "source": [
    "Operacje sprawdzania, czy jest klucz w słowniku."
   ]
  },
  {
   "cell_type": "code",
   "execution_count": 13,
   "metadata": {},
   "outputs": [
    {
     "name": "stdout",
     "output_type": "stream",
     "text": [
      "(True, False)\n",
      "(False, True)\n"
     ]
    }
   ],
   "source": [
    "d = {'0': 0}\n",
    "print(('0' in d, 0 in d))\n",
    "print(('0' not in d, 0 not in d))"
   ]
  },
  {
   "cell_type": "markdown",
   "metadata": {},
   "source": [
    "Operacje na tym co jest w słowniku: kluczach i wartościach."
   ]
  },
  {
   "cell_type": "code",
   "execution_count": 14,
   "metadata": {},
   "outputs": [
    {
     "name": "stdout",
     "output_type": "stream",
     "text": [
      "dict_keys(['0', '1'])\n",
      "dict_values([0, 1])\n",
      "dict_items([('0', 0), ('1', 1)])\n"
     ]
    }
   ],
   "source": [
    "d = {'0': 0, '1': 1}\n",
    "print(d.keys())\n",
    "print(d.values())\n",
    "print(d.items())"
   ]
  },
  {
   "cell_type": "code",
   "execution_count": 15,
   "metadata": {},
   "outputs": [
    {
     "name": "stdout",
     "output_type": "stream",
     "text": [
      "a b \n",
      "a b \n",
      "0 1 \n",
      "('a', 0) ('b', 1) \n"
     ]
    }
   ],
   "source": [
    "d = {'a': 0, 'b': 1}\n",
    "s = str()\n",
    "for i in d:\n",
    "    s += '%s ' % str(i)\n",
    "print(s)\n",
    "\n",
    "s = str()\n",
    "for i in d.keys():\n",
    "    s += '%s ' % str(i)\n",
    "print(s)\n",
    "\n",
    "s = str()\n",
    "for i in d.values():\n",
    "    s += '%s ' % str(i)\n",
    "print(s)\n",
    "\n",
    "s = str()\n",
    "for i in d.items():\n",
    "    s += '%s ' % str(i)\n",
    "print(s)"
   ]
  },
  {
   "cell_type": "markdown",
   "metadata": {},
   "source": [
    "Wykorzystanie iteratora."
   ]
  },
  {
   "cell_type": "code",
   "execution_count": 16,
   "metadata": {},
   "outputs": [
    {
     "name": "stdout",
     "output_type": "stream",
     "text": [
      "Koniec!\n",
      "a b \n"
     ]
    }
   ],
   "source": [
    "d = {'a': 0, 'b': 1}\n",
    "s = str()\n",
    "i = iter(d)\n",
    "try:\n",
    "    while True:\n",
    "        n = next(i)\n",
    "        s += '%s ' % str(n)\n",
    "except StopIteration:\n",
    "    print(\"Koniec!\")\n",
    "print(s)"
   ]
  },
  {
   "cell_type": "markdown",
   "metadata": {},
   "source": [
    "Słownik (od python w wersji 3.7), może zachowywać się jak.. stos!"
   ]
  },
  {
   "cell_type": "code",
   "execution_count": 17,
   "metadata": {},
   "outputs": [
    {
     "data": {
      "text/plain": [
       "('b', 1)"
      ]
     },
     "execution_count": 17,
     "metadata": {},
     "output_type": "execute_result"
    }
   ],
   "source": [
    "d = {'a': 0, 'b': 1}\n",
    "d.popitem()"
   ]
  },
  {
   "cell_type": "code",
   "execution_count": 18,
   "metadata": {},
   "outputs": [
    {
     "data": {
      "text/plain": [
       "'\\npopitem()\\nRemove and return a (key, value) pair from the dictionary.\\nPairs are returned in LIFO order.\\n\\npopitem() is useful to destructively iterate over a dictionary,\\nas often used in set algorithms. If the dictionary is empty,\\ncalling popitem() raises a KeyError.\\n\\nChanged in version 3.7: LIFO order is now guaranteed.\\nIn prior versions, popitem() would return an arbitrary\\nkey/value pair.\\n'"
      ]
     },
     "execution_count": 18,
     "metadata": {},
     "output_type": "execute_result"
    }
   ],
   "source": [
    "d = {'a': 0, 'b': 1}\n",
    "d['c'] = 2\n",
    "d.popitem()\n",
    "\n",
    "\"\"\"\n",
    "popitem()\n",
    "Remove and return a (key, value) pair from the dictionary.\n",
    "Pairs are returned in LIFO order.\n",
    "\n",
    "popitem() is useful to destructively iterate over a dictionary,\n",
    "as often used in set algorithms. If the dictionary is empty,\n",
    "calling popitem() raises a KeyError.\n",
    "\n",
    "Changed in version 3.7: LIFO order is now guaranteed.\n",
    "In prior versions, popitem() would return an arbitrary\n",
    "key/value pair.\n",
    "\"\"\""
   ]
  },
  {
   "cell_type": "code",
   "execution_count": 19,
   "metadata": {},
   "outputs": [
    {
     "data": {
      "text/plain": [
       "'\\nsetdefault(key[, default])\\nIf key is in the dictionary, return its value.\\nIf not, insert key with a value of default and\\nreturn default. default defaults to None.\\n'"
      ]
     },
     "execution_count": 19,
     "metadata": {},
     "output_type": "execute_result"
    }
   ],
   "source": [
    "d = {'a': 0, 'b': 1}\n",
    "d.setdefault('b', 11)\n",
    "d.setdefault('c', 2)\n",
    "d\n",
    "\"\"\"\n",
    "setdefault(key[, default])\n",
    "If key is in the dictionary, return its value.\n",
    "If not, insert key with a value of default and\n",
    "return default. default defaults to None.\n",
    "\"\"\""
   ]
  },
  {
   "cell_type": "code",
   "execution_count": 20,
   "metadata": {},
   "outputs": [
    {
     "data": {
      "text/plain": [
       "{'a': 0, 'b': 11, 'c': 2}"
      ]
     },
     "execution_count": 20,
     "metadata": {},
     "output_type": "execute_result"
    }
   ],
   "source": [
    "d = {'a': 0, 'b': 1}\n",
    "d.update({'b': 11, 'c': 2})\n",
    "d"
   ]
  },
  {
   "cell_type": "code",
   "execution_count": 21,
   "metadata": {},
   "outputs": [
    {
     "data": {
      "text/plain": [
       "{'a': 0, 'b': 11, 'c': 2}"
      ]
     },
     "execution_count": 21,
     "metadata": {},
     "output_type": "execute_result"
    }
   ],
   "source": [
    "d = {'a': 0, 'b': 1}\n",
    "d.update([('b', 11), ('c', 2)])\n",
    "d"
   ]
  },
  {
   "cell_type": "code",
   "execution_count": 22,
   "metadata": {},
   "outputs": [
    {
     "data": {
      "text/plain": [
       "{'a': 0, 'b': 11, 'c': 2}"
      ]
     },
     "execution_count": 22,
     "metadata": {},
     "output_type": "execute_result"
    }
   ],
   "source": [
    "d = {'a': 0, 'b': 1}\n",
    "d.update(b=11, c=2)  # nazwy parametrów jako klucze\n",
    "d"
   ]
  }
 ],
 "metadata": {
  "kernelspec": {
   "display_name": "Python 3",
   "language": "python",
   "name": "python3"
  },
  "language_info": {
   "codemirror_mode": {
    "name": "ipython",
    "version": 3
   },
   "file_extension": ".py",
   "mimetype": "text/x-python",
   "name": "python",
   "nbconvert_exporter": "python",
   "pygments_lexer": "ipython3",
   "version": "3.7.3"
  }
 },
 "nbformat": 4,
 "nbformat_minor": 2
}
