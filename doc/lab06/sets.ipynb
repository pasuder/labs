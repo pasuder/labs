{
 "cells": [
  {
   "cell_type": "markdown",
   "metadata": {},
   "source": [
    "# python\n",
    "\n",
    "## Typy podstawowe\n",
    "\n",
    "### Zbiory"
   ]
  },
  {
   "cell_type": "markdown",
   "metadata": {},
   "source": [
    "Operacje tworzenia, dodawania, czyszczenia i usuwania."
   ]
  },
  {
   "cell_type": "code",
   "execution_count": 1,
   "metadata": {},
   "outputs": [
    {
     "data": {
      "text/plain": [
       "set()"
      ]
     },
     "execution_count": 1,
     "metadata": {},
     "output_type": "execute_result"
    }
   ],
   "source": [
    "s = set()\n",
    "s"
   ]
  },
  {
   "cell_type": "code",
   "execution_count": 2,
   "metadata": {},
   "outputs": [
    {
     "data": {
      "text/plain": [
       "{0}"
      ]
     },
     "execution_count": 2,
     "metadata": {},
     "output_type": "execute_result"
    }
   ],
   "source": [
    "s.add(0)\n",
    "s"
   ]
  },
  {
   "cell_type": "code",
   "execution_count": 3,
   "metadata": {},
   "outputs": [
    {
     "data": {
      "text/plain": [
       "{0}"
      ]
     },
     "execution_count": 3,
     "metadata": {},
     "output_type": "execute_result"
    }
   ],
   "source": [
    "s.add(0)  # dodaję raz jeszcze to samo\n",
    "s"
   ]
  },
  {
   "cell_type": "code",
   "execution_count": 4,
   "metadata": {},
   "outputs": [
    {
     "data": {
      "text/plain": [
       "{0, 1}"
      ]
     },
     "execution_count": 4,
     "metadata": {},
     "output_type": "execute_result"
    }
   ],
   "source": [
    "s.add(1)\n",
    "s"
   ]
  },
  {
   "cell_type": "code",
   "execution_count": 5,
   "metadata": {},
   "outputs": [
    {
     "data": {
      "text/plain": [
       "2"
      ]
     },
     "execution_count": 5,
     "metadata": {},
     "output_type": "execute_result"
    }
   ],
   "source": [
    "len(s)"
   ]
  },
  {
   "cell_type": "code",
   "execution_count": 6,
   "metadata": {},
   "outputs": [
    {
     "data": {
      "text/plain": [
       "set()"
      ]
     },
     "execution_count": 6,
     "metadata": {},
     "output_type": "execute_result"
    }
   ],
   "source": [
    "s.clear()\n",
    "s"
   ]
  },
  {
   "cell_type": "code",
   "execution_count": 7,
   "metadata": {},
   "outputs": [
    {
     "data": {
      "text/plain": [
       "{0}"
      ]
     },
     "execution_count": 7,
     "metadata": {},
     "output_type": "execute_result"
    }
   ],
   "source": [
    "s.add(0)\n",
    "s"
   ]
  },
  {
   "cell_type": "code",
   "execution_count": 8,
   "metadata": {},
   "outputs": [
    {
     "data": {
      "text/plain": [
       "set()"
      ]
     },
     "execution_count": 8,
     "metadata": {},
     "output_type": "execute_result"
    }
   ],
   "source": [
    "s.remove(0)\n",
    "s"
   ]
  },
  {
   "cell_type": "code",
   "execution_count": 9,
   "metadata": {},
   "outputs": [
    {
     "name": "stdout",
     "output_type": "stream",
     "text": [
      "Nie ma już tego elementu w zbiorze\n"
     ]
    }
   ],
   "source": [
    "try:\n",
    "    s.remove(0)\n",
    "except KeyError:\n",
    "    print(\"Nie ma już tego elementu w zbiorze\")\n",
    "\n",
    "s.discard(0)  # można za to zrobić w ten sposób usuwanie"
   ]
  },
  {
   "cell_type": "markdown",
   "metadata": {},
   "source": [
    "Operacja \"zrzucania\"."
   ]
  },
  {
   "cell_type": "code",
   "execution_count": 10,
   "metadata": {},
   "outputs": [],
   "source": [
    "s = {0, 1}"
   ]
  },
  {
   "cell_type": "code",
   "execution_count": 11,
   "metadata": {},
   "outputs": [
    {
     "data": {
      "text/plain": [
       "{1}"
      ]
     },
     "execution_count": 11,
     "metadata": {},
     "output_type": "execute_result"
    }
   ],
   "source": [
    "s.pop()\n",
    "s"
   ]
  },
  {
   "cell_type": "code",
   "execution_count": 12,
   "metadata": {},
   "outputs": [
    {
     "data": {
      "text/plain": [
       "set()"
      ]
     },
     "execution_count": 12,
     "metadata": {},
     "output_type": "execute_result"
    }
   ],
   "source": [
    "s.pop()\n",
    "s"
   ]
  },
  {
   "cell_type": "code",
   "execution_count": 13,
   "metadata": {},
   "outputs": [
    {
     "name": "stdout",
     "output_type": "stream",
     "text": [
      "Nie można zrobić pop na zbiorze pustym\n"
     ]
    }
   ],
   "source": [
    "try:\n",
    "    s.pop()\n",
    "except KeyError:\n",
    "    print(\"Nie można zrobić pop na zbiorze pustym\")"
   ]
  },
  {
   "cell_type": "markdown",
   "metadata": {},
   "source": [
    "Operacje sprawdzania, czy jest obiekt w zbiorze."
   ]
  },
  {
   "cell_type": "code",
   "execution_count": 14,
   "metadata": {},
   "outputs": [
    {
     "data": {
      "text/plain": [
       "False"
      ]
     },
     "execution_count": 14,
     "metadata": {},
     "output_type": "execute_result"
    }
   ],
   "source": [
    "s = {0, 1}\n",
    "2 in s"
   ]
  },
  {
   "cell_type": "code",
   "execution_count": 15,
   "metadata": {},
   "outputs": [
    {
     "data": {
      "text/plain": [
       "True"
      ]
     },
     "execution_count": 15,
     "metadata": {},
     "output_type": "execute_result"
    }
   ],
   "source": [
    "2 not in s"
   ]
  },
  {
   "cell_type": "markdown",
   "metadata": {},
   "source": [
    "Sprawdzenie, czy zbiory są rozłączne."
   ]
  },
  {
   "cell_type": "code",
   "execution_count": 16,
   "metadata": {},
   "outputs": [
    {
     "data": {
      "text/plain": [
       "True"
      ]
     },
     "execution_count": 16,
     "metadata": {},
     "output_type": "execute_result"
    }
   ],
   "source": [
    "t = {2}\n",
    "t.isdisjoint(s)"
   ]
  },
  {
   "cell_type": "code",
   "execution_count": 17,
   "metadata": {},
   "outputs": [
    {
     "data": {
      "text/plain": [
       "False"
      ]
     },
     "execution_count": 17,
     "metadata": {},
     "output_type": "execute_result"
    }
   ],
   "source": [
    "t = {1, 2}\n",
    "t.isdisjoint(s)"
   ]
  },
  {
   "cell_type": "markdown",
   "metadata": {},
   "source": [
    "Sprawdzanie innych zależności między zbiorami:\n",
    "\n",
    "- czy jest podzbiorem?\n",
    "- czy jest nadzbiorem?"
   ]
  },
  {
   "cell_type": "code",
   "execution_count": 18,
   "metadata": {},
   "outputs": [
    {
     "name": "stdout",
     "output_type": "stream",
     "text": [
      "(True, False)\n",
      "(True, False)\n",
      "(True, False)\n"
     ]
    }
   ],
   "source": [
    "t = {1}\n",
    "print((t.issubset(s), s.issubset(t)))\n",
    "print((t <= s, s <= t))\n",
    "print((t < s, s < t))"
   ]
  },
  {
   "cell_type": "code",
   "execution_count": 19,
   "metadata": {},
   "outputs": [
    {
     "name": "stdout",
     "output_type": "stream",
     "text": [
      "(True, True)\n",
      "(True, True)\n",
      "(False, False)\n"
     ]
    }
   ],
   "source": [
    "t = {0, 1}\n",
    "print((t.issubset(s), s.issubset(t)))\n",
    "print((t <= s, s <= t))\n",
    "print((t < s, s < t))"
   ]
  },
  {
   "cell_type": "code",
   "execution_count": 20,
   "metadata": {},
   "outputs": [
    {
     "name": "stdout",
     "output_type": "stream",
     "text": [
      "(True, False)\n",
      "(True, False)\n",
      "(True, False)\n"
     ]
    }
   ],
   "source": [
    "t = {0, 1, 2}\n",
    "print((t.issuperset(s), s.issuperset(t)))\n",
    "print((t >= s, s >= t))\n",
    "print((t > s, s > t))"
   ]
  },
  {
   "cell_type": "code",
   "execution_count": 21,
   "metadata": {},
   "outputs": [
    {
     "name": "stdout",
     "output_type": "stream",
     "text": [
      "(True, True)\n",
      "(True, True)\n",
      "(False, False)\n"
     ]
    }
   ],
   "source": [
    "t = {0, 1}\n",
    "print((t.issuperset(s), s.issuperset(t)))\n",
    "print((t >= s, s >= t))\n",
    "print((t > s, s > t))"
   ]
  },
  {
   "cell_type": "markdown",
   "metadata": {},
   "source": [
    "Operacje na zbiorach:\n",
    "\n",
    "- suma (logiczna)\n",
    "- przecięcie/wspólna część/iloczyn (logiczny)\n",
    "- różnica\n",
    "- symetryczna różnica (suma - wspólna część)"
   ]
  },
  {
   "cell_type": "code",
   "execution_count": 22,
   "metadata": {},
   "outputs": [
    {
     "name": "stdout",
     "output_type": "stream",
     "text": [
      "({0, 1, 2}, {0, 1, 2})\n",
      "({0, 1, 2}, {0, 1, 2})\n"
     ]
    }
   ],
   "source": [
    "s, t = {0, 1}, {1, 2}\n",
    "print((s.union(t), t.union(s)))\n",
    "print((s | t, t | s))"
   ]
  },
  {
   "cell_type": "code",
   "execution_count": 23,
   "metadata": {},
   "outputs": [
    {
     "name": "stdout",
     "output_type": "stream",
     "text": [
      "({1}, {1})\n",
      "({1}, {1})\n"
     ]
    }
   ],
   "source": [
    "s, t = {0, 1}, {1, 2}\n",
    "print((s.intersection(t), t.intersection(s)))\n",
    "print((s & t, t & s))"
   ]
  },
  {
   "cell_type": "code",
   "execution_count": 24,
   "metadata": {},
   "outputs": [
    {
     "name": "stdout",
     "output_type": "stream",
     "text": [
      "({0}, {2})\n",
      "({0}, {2})\n"
     ]
    }
   ],
   "source": [
    "s, t = {0, 1}, {1, 2}\n",
    "print((s.difference(t), t.difference(s)))\n",
    "print((s - t, t - s))"
   ]
  },
  {
   "cell_type": "code",
   "execution_count": 25,
   "metadata": {},
   "outputs": [
    {
     "name": "stdout",
     "output_type": "stream",
     "text": [
      "({0, 2}, {0, 2})\n",
      "({0, 2}, {0, 2})\n"
     ]
    }
   ],
   "source": [
    "s, t = {0, 1}, {1, 2}\n",
    "print((s.symmetric_difference(t), t.symmetric_difference(s)))\n",
    "print((s ^ t, t ^ s))"
   ]
  },
  {
   "cell_type": "markdown",
   "metadata": {},
   "source": [
    "Operacje zmieniające istniejący zbiór (in-situ)."
   ]
  },
  {
   "cell_type": "code",
   "execution_count": 26,
   "metadata": {},
   "outputs": [
    {
     "name": "stdout",
     "output_type": "stream",
     "text": [
      "({0, 1, 2}, {1, 2})\n",
      "({0, 1, 2}, {1, 2})\n"
     ]
    }
   ],
   "source": [
    "s, t = {0, 1}, {1, 2}\n",
    "s.update(t)\n",
    "print((s, t))\n",
    "s, t = {0, 1}, {1, 2}\n",
    "s |= t\n",
    "print((s, t))"
   ]
  },
  {
   "cell_type": "code",
   "execution_count": 27,
   "metadata": {},
   "outputs": [
    {
     "name": "stdout",
     "output_type": "stream",
     "text": [
      "({1}, {1, 2})\n",
      "({1}, {1, 2})\n"
     ]
    }
   ],
   "source": [
    "s, t = {0, 1}, {1, 2}\n",
    "s.intersection_update(t)\n",
    "print((s, t))\n",
    "s, t = {0, 1}, {1, 2}\n",
    "s &= t\n",
    "print((s, t))"
   ]
  },
  {
   "cell_type": "code",
   "execution_count": 28,
   "metadata": {},
   "outputs": [
    {
     "name": "stdout",
     "output_type": "stream",
     "text": [
      "({0}, {1, 2})\n",
      "({0}, {1, 2})\n"
     ]
    }
   ],
   "source": [
    "s, t = {0, 1}, {1, 2}\n",
    "s.difference_update(t)\n",
    "print((s, t))\n",
    "s, t = {0, 1}, {1, 2}\n",
    "s -= t\n",
    "print((s, t))"
   ]
  },
  {
   "cell_type": "code",
   "execution_count": 29,
   "metadata": {},
   "outputs": [
    {
     "name": "stdout",
     "output_type": "stream",
     "text": [
      "({0, 2}, {1, 2})\n",
      "({0, 2}, {1, 2})\n"
     ]
    }
   ],
   "source": [
    "s, t = {0, 1}, {1, 2}\n",
    "s.symmetric_difference_update(t)\n",
    "print((s, t))\n",
    "s, t = {0, 1}, {1, 2}\n",
    "s ^= t\n",
    "print((s, t))"
   ]
  },
  {
   "cell_type": "markdown",
   "metadata": {},
   "source": [
    "Przykład z własną klasą, która musi mieć zaimplementowane metody specjalne:\n",
    "    \n",
    "- `__hash__`\n",
    "- `__eq__`\n",
    "\n",
    "Na obiektach tejże klasy będziemy wykonywanać przykłady związane z funkcją `hash`."
   ]
  },
  {
   "cell_type": "code",
   "execution_count": 30,
   "metadata": {},
   "outputs": [],
   "source": [
    "class Object(object):\n",
    "    def __init__(self, param, h=None):\n",
    "        self.param, self.__hash = param, h\n",
    "    def __str__(self):\n",
    "        return self.param\n",
    "    def __repr__(self):\n",
    "        return self.param\n",
    "    def __hash__(self):\n",
    "        return self.__hash if self.__hash else super(Object, self).__hash__()\n",
    "    def __eq__(self, other):\n",
    "        return self.__hash == hash(other)"
   ]
  },
  {
   "cell_type": "code",
   "execution_count": 31,
   "metadata": {},
   "outputs": [
    {
     "name": "stdout",
     "output_type": "stream",
     "text": [
      "(8747976315519, 8747976315638)\n",
      "{object 2, object 1}\n"
     ]
    }
   ],
   "source": [
    "o1 = Object('object 1')\n",
    "o2 = Object('object 2')\n",
    "print((hash(o1), hash(o2)))\n",
    "print({o1, o2})"
   ]
  },
  {
   "cell_type": "code",
   "execution_count": 32,
   "metadata": {},
   "outputs": [
    {
     "name": "stdout",
     "output_type": "stream",
     "text": [
      "(1, 2)\n",
      "{object 1, object 2}\n"
     ]
    }
   ],
   "source": [
    "o1 = Object('object 1', 1)\n",
    "o2 = Object('object 2', 2)\n",
    "print((hash(o1), hash(o2)))\n",
    "print({o1, o2})"
   ]
  },
  {
   "cell_type": "code",
   "execution_count": 33,
   "metadata": {},
   "outputs": [
    {
     "name": "stdout",
     "output_type": "stream",
     "text": [
      "(1, 1)\n",
      "{object 1}\n"
     ]
    }
   ],
   "source": [
    "o1 = Object('object 1', 1)\n",
    "o2 = Object('object 2', 1)\n",
    "print((hash(o1), hash(o2)))\n",
    "print({o1, o2}) # hashe są identyczne!"
   ]
  },
  {
   "cell_type": "code",
   "execution_count": 34,
   "metadata": {},
   "outputs": [
    {
     "data": {
      "text/plain": [
       "{object 1, object 2}"
      ]
     },
     "execution_count": 34,
     "metadata": {},
     "output_type": "execute_result"
    }
   ],
   "source": [
    "class Object(object):\n",
    "    def __init__(self, param, h=None):\n",
    "        self.param, self.__hash = param, h\n",
    "    def __str__(self):\n",
    "        return self.param\n",
    "    def __repr__(self):\n",
    "        return self.param\n",
    "    def __hash__(self):\n",
    "        return self.__hash if self.__hash else hash(super(Object, self))\n",
    "\n",
    "o1 = Object('object 1', 1)\n",
    "o2 = Object('object 2', 1)\n",
    "{o1, o2} # brakuje porównania"
   ]
  },
  {
   "cell_type": "code",
   "execution_count": 36,
   "metadata": {},
   "outputs": [
    {
     "ename": "TypeError",
     "evalue": "unhashable type: 'Object'",
     "output_type": "error",
     "traceback": [
      "\u001b[0;31m---------------------------------------------------------------------------\u001b[0m",
      "\u001b[0;31mTypeError\u001b[0m                                 Traceback (most recent call last)",
      "\u001b[0;32m<ipython-input-36-a9ef9801f8ae>\u001b[0m in \u001b[0;36m<module>\u001b[0;34m\u001b[0m\n\u001b[1;32m     11\u001b[0m \u001b[0mo1\u001b[0m \u001b[0;34m=\u001b[0m \u001b[0mObject\u001b[0m\u001b[0;34m(\u001b[0m\u001b[0;34m'object 1'\u001b[0m\u001b[0;34m,\u001b[0m \u001b[0;36m1\u001b[0m\u001b[0;34m)\u001b[0m\u001b[0;34m\u001b[0m\u001b[0;34m\u001b[0m\u001b[0m\n\u001b[1;32m     12\u001b[0m \u001b[0mo2\u001b[0m \u001b[0;34m=\u001b[0m \u001b[0mObject\u001b[0m\u001b[0;34m(\u001b[0m\u001b[0;34m'object 2'\u001b[0m\u001b[0;34m,\u001b[0m \u001b[0;36m1\u001b[0m\u001b[0;34m)\u001b[0m\u001b[0;34m\u001b[0m\u001b[0;34m\u001b[0m\u001b[0m\n\u001b[0;32m---> 13\u001b[0;31m \u001b[0;34m{\u001b[0m\u001b[0mo1\u001b[0m\u001b[0;34m,\u001b[0m \u001b[0mo2\u001b[0m\u001b[0;34m}\u001b[0m  \u001b[0;31m# brakuje hashowania\u001b[0m\u001b[0;34m\u001b[0m\u001b[0;34m\u001b[0m\u001b[0m\n\u001b[0m",
      "\u001b[0;31mTypeError\u001b[0m: unhashable type: 'Object'"
     ]
    }
   ],
   "source": [
    "class Object(object):\n",
    "    def __init__(self, param, h=None):\n",
    "        self.param, self.__hash = param, h\n",
    "    def __str__(self):\n",
    "        return self.param\n",
    "    def __repr__(self):\n",
    "        return self.param\n",
    "    def __eq__(self, other):\n",
    "        return self.__hash == hash(other)\n",
    "    \n",
    "o1 = Object('object 1', 1)\n",
    "o2 = Object('object 2', 1)\n",
    "{o1, o2}  # brakuje hashowania"
   ]
  },
  {
   "cell_type": "code",
   "execution_count": 37,
   "metadata": {},
   "outputs": [],
   "source": [
    "class Object(object):\n",
    "    def __init__(self, param, h=None):\n",
    "        self.param, self.__hash = param, h\n",
    "    def __str__(self):\n",
    "        return self.param\n",
    "    def __repr__(self):\n",
    "        return self.param\n",
    "    def __hash__(self):\n",
    "        return self.__hash if self.__hash else hash(super(Object, self))\n",
    "    def __eq__(self, other):\n",
    "        return self.__hash == hash(other)"
   ]
  },
  {
   "cell_type": "code",
   "execution_count": 38,
   "metadata": {},
   "outputs": [
    {
     "data": {
      "text/plain": [
       "{object 1}"
      ]
     },
     "execution_count": 38,
     "metadata": {},
     "output_type": "execute_result"
    }
   ],
   "source": [
    "o1 = Object('object 1', 1)\n",
    "o2 = Object('object 2', 1)\n",
    "\n",
    "s = {o1}\n",
    "s"
   ]
  },
  {
   "cell_type": "code",
   "execution_count": 39,
   "metadata": {},
   "outputs": [
    {
     "data": {
      "text/plain": [
       "True"
      ]
     },
     "execution_count": 39,
     "metadata": {},
     "output_type": "execute_result"
    }
   ],
   "source": [
    "o2 in s  # bo hash jest ten sam.."
   ]
  },
  {
   "cell_type": "code",
   "execution_count": 40,
   "metadata": {},
   "outputs": [
    {
     "data": {
      "text/plain": [
       "set()"
      ]
     },
     "execution_count": 40,
     "metadata": {},
     "output_type": "execute_result"
    }
   ],
   "source": [
    "s.remove(o2)\n",
    "s"
   ]
  },
  {
   "cell_type": "code",
   "execution_count": 41,
   "metadata": {},
   "outputs": [
    {
     "name": "stdout",
     "output_type": "stream",
     "text": [
      "Obiekt z identycznym hashem został usunięty, więc nie mam co usuwać.\n"
     ]
    }
   ],
   "source": [
    "try:\n",
    "    s.remove(o1)\n",
    "except KeyError:\n",
    "    print(\"Obiekt z identycznym hashem został usunięty, \"\n",
    "          \"więc nie mam co usuwać.\")"
   ]
  }
 ],
 "metadata": {
  "kernelspec": {
   "display_name": "Python 3",
   "language": "python",
   "name": "python3"
  },
  "language_info": {
   "codemirror_mode": {
    "name": "ipython",
    "version": 3
   },
   "file_extension": ".py",
   "mimetype": "text/x-python",
   "name": "python",
   "nbconvert_exporter": "python",
   "pygments_lexer": "ipython3",
   "version": "3.7.3"
  }
 },
 "nbformat": 4,
 "nbformat_minor": 2
}
