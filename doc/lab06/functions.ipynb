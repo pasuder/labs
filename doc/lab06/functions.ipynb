{
 "cells": [
  {
   "cell_type": "markdown",
   "metadata": {},
   "source": [
    "# python\n",
    "\n",
    "## Funkcje"
   ]
  },
  {
   "cell_type": "code",
   "execution_count": 1,
   "metadata": {},
   "outputs": [
    {
     "name": "stdout",
     "output_type": "stream",
     "text": [
      "Działanie funkcji\n"
     ]
    },
    {
     "data": {
      "text/plain": [
       "'Wynik działania funkcji'"
      ]
     },
     "execution_count": 1,
     "metadata": {},
     "output_type": "execute_result"
    }
   ],
   "source": [
    "def func():\n",
    "    print(\"Działanie funkcji\")\n",
    "    return \"Wynik działania funkcji\"\n",
    "\n",
    "func()"
   ]
  },
  {
   "cell_type": "code",
   "execution_count": 2,
   "metadata": {},
   "outputs": [
    {
     "name": "stdout",
     "output_type": "stream",
     "text": [
      "Działanie funkcji na parametrze param o wartości jakaś wartość\n"
     ]
    }
   ],
   "source": [
    "def func(param):\n",
    "    print(\"Działanie funkcji na parametrze param \"\n",
    "          \"o wartości %s\" % param)\n",
    "\n",
    "func(\"jakaś wartość\")"
   ]
  },
  {
   "cell_type": "code",
   "execution_count": 3,
   "metadata": {},
   "outputs": [
    {
     "name": "stdout",
     "output_type": "stream",
     "text": [
      "Wartość przypisana do parametru to TADAM\n"
     ]
    }
   ],
   "source": [
    "a = \"Wartość przypisana do zmiennej poza funkcją\"\n",
    "\n",
    "def func(a):\n",
    "    print(\"Wartość przypisana do parametru to %s\" % a)\n",
    "\n",
    "func(\"TADAM\")"
   ]
  },
  {
   "cell_type": "code",
   "execution_count": 4,
   "metadata": {},
   "outputs": [
    {
     "name": "stdout",
     "output_type": "stream",
     "text": [
      "Wartość a to Wartość przypisana do zmiennej w funkcji\n"
     ]
    }
   ],
   "source": [
    "a = \"Wartość przypisana do zmiennej poza funkcją\"\n",
    "\n",
    "def func():\n",
    "    a = \"Wartość przypisana do zmiennej w funkcji\"\n",
    "    print(\"Wartość a to %s\" % a)\n",
    "\n",
    "func()"
   ]
  },
  {
   "cell_type": "code",
   "execution_count": 5,
   "metadata": {},
   "outputs": [
    {
     "name": "stdout",
     "output_type": "stream",
     "text": [
      "Wartość a to Wartość przypisana do zmiennej poza funkcją\n"
     ]
    }
   ],
   "source": [
    "import sys\n",
    "a = \"Wartość przypisana do zmiennej poza funkcją\"\n",
    "\n",
    "def func():\n",
    "    a = \"Wartość przypisana do zmiennej w funkcji\"\n",
    "    print(\"Wartość a to %s\" % sys.modules[__name__].a)\n",
    "\n",
    "func()"
   ]
  },
  {
   "cell_type": "code",
   "execution_count": 6,
   "metadata": {},
   "outputs": [
    {
     "name": "stdout",
     "output_type": "stream",
     "text": [
      "Wartość a to Wartość przypisana do zmiennej poza funkcją\n"
     ]
    }
   ],
   "source": [
    "a = \"Wartość przypisana do zmiennej poza funkcją\"\n",
    "\n",
    "def func():\n",
    "    a = \"Wartość przypisana do zmiennej w funkcji\"\n",
    "    print(\"Wartość a to %s\" % globals()['a'])\n",
    "\n",
    "func()"
   ]
  },
  {
   "cell_type": "code",
   "execution_count": 7,
   "metadata": {},
   "outputs": [
    {
     "name": "stdout",
     "output_type": "stream",
     "text": [
      "a, bb, 3\n"
     ]
    }
   ],
   "source": [
    "def func(a, b, c):\n",
    "    print(\"%s, %s, %s\" % (a, b, c))\n",
    "\n",
    "func(\"a\", \"bb\", 3)"
   ]
  },
  {
   "cell_type": "code",
   "execution_count": 8,
   "metadata": {},
   "outputs": [
    {
     "name": "stdout",
     "output_type": "stream",
     "text": [
      "a, bb, 3\n",
      "aa, bbb, 3, 4, 56\n"
     ]
    }
   ],
   "source": [
    "def func(*args):\n",
    "    print(\", \".join(map(str, args)))\n",
    "\n",
    "func(\"a\", \"bb\", 3)\n",
    "func(\"aa\", \"bbb\", 3, 4, 56)"
   ]
  },
  {
   "cell_type": "code",
   "execution_count": 9,
   "metadata": {},
   "outputs": [
    {
     "name": "stdout",
     "output_type": "stream",
     "text": [
      "a, 2, 33\n",
      "aa, 22, 33\n",
      "aa, 22, 33\n",
      "aa, 22, 333\n",
      "aa, 2, 333\n"
     ]
    }
   ],
   "source": [
    "def func(a, b=2, c=33):\n",
    "    print(\"%s, %s, %s\" % (a, b, c))\n",
    "\n",
    "func('a')\n",
    "func('aa', 22)\n",
    "func('aa', b=22)\n",
    "func('aa', 22, c=333)\n",
    "func('aa', c=333)\n",
    "# func('aa', b=22, 333)"
   ]
  },
  {
   "cell_type": "code",
   "execution_count": 10,
   "metadata": {},
   "outputs": [
    {
     "name": "stdout",
     "output_type": "stream",
     "text": [
      "a, b, c\n"
     ]
    }
   ],
   "source": [
    "def func(**kwargs):\n",
    "    print(\", \".join(map(str, kwargs)))\n",
    "\n",
    "# func(1, 2, 3)\n",
    "func(a=1, b=2, c=3)"
   ]
  },
  {
   "cell_type": "code",
   "execution_count": 11,
   "metadata": {},
   "outputs": [
    {
     "name": "stdout",
     "output_type": "stream",
     "text": [
      "('a', 1), ('b', 2), ('c', 3)\n"
     ]
    }
   ],
   "source": [
    "def func(**kwargs):\n",
    "    print(\", \".join(map(str, kwargs.items())))\n",
    "\n",
    "func(a=1, b=2, c=3)"
   ]
  },
  {
   "cell_type": "code",
   "execution_count": 12,
   "metadata": {},
   "outputs": [
    {
     "name": "stdout",
     "output_type": "stream",
     "text": [
      "a, b, c, ('a', 1), ('b', 2), ('c', 3)\n"
     ]
    }
   ],
   "source": [
    "from itertools import chain\n",
    "\n",
    "def func(*args, **kwargs):\n",
    "    print(\", \".join(chain(map(str, args),\n",
    "                          map(str, kwargs.items()))))\n",
    "\n",
    "func('a', 'b', 'c', a=1, b=2, c=3)"
   ]
  },
  {
   "cell_type": "code",
   "execution_count": 13,
   "metadata": {},
   "outputs": [
    {
     "name": "stdout",
     "output_type": "stream",
     "text": [
      "1, 2, 3\n",
      "1, 2, nah\n",
      "1, 2, nah, blah\n"
     ]
    }
   ],
   "source": [
    "def func(a, b, c=3, *args):\n",
    "    print(\", \".join(map(str, chain((a, b, c), args))))\n",
    "\n",
    "func(1, 2)\n",
    "func(1, 2, 'nah')\n",
    "func(1, 2, 'nah', 'blah')"
   ]
  },
  {
   "cell_type": "code",
   "execution_count": 14,
   "metadata": {},
   "outputs": [
    {
     "name": "stdout",
     "output_type": "stream",
     "text": [
      "1, 2\n",
      "1, nah\n",
      "1, nah, bleh\n",
      "1, nah, ('c', 'bleh')\n"
     ]
    }
   ],
   "source": [
    "def func(a, b=2, *args, **kwargs):\n",
    "    print(\", \".join(map(str, chain((a, b), args, kwargs.items()))))\n",
    "\n",
    "func(1)\n",
    "func(1, 'nah')\n",
    "func(1, 'nah', 'bleh')\n",
    "func(1, b='nah', c='bleh')\n",
    "# func(1, b='nah', 'bleh')"
   ]
  },
  {
   "cell_type": "code",
   "execution_count": 15,
   "metadata": {},
   "outputs": [
    {
     "name": "stdout",
     "output_type": "stream",
     "text": [
      "wartość przed funkcją\n"
     ]
    }
   ],
   "source": [
    "a = 'wartość przed funkcją'\n",
    "\n",
    "def func():\n",
    "    a = 'zmiana wartości w funkcji'\n",
    "\n",
    "func()\n",
    "print(a)"
   ]
  },
  {
   "cell_type": "code",
   "execution_count": 16,
   "metadata": {},
   "outputs": [
    {
     "name": "stdout",
     "output_type": "stream",
     "text": [
      "zmiana wartości w funkcji\n"
     ]
    }
   ],
   "source": [
    "a = 'wartość przed funkcją'\n",
    "\n",
    "def func():\n",
    "    global a\n",
    "    a = 'zmiana wartości w funkcji'\n",
    "\n",
    "func()\n",
    "print(a)"
   ]
  },
  {
   "cell_type": "code",
   "execution_count": 17,
   "metadata": {},
   "outputs": [
    {
     "name": "stdout",
     "output_type": "stream",
     "text": [
      "zmiana wartość po funkcji\n"
     ]
    }
   ],
   "source": [
    "a = 'wartość przed funkcją'\n",
    "\n",
    "def func():\n",
    "    a = 'zmiana wartości w funkcji'\n",
    "\n",
    "a = 'zmiana wartość po funkcji'\n",
    "\n",
    "func()\n",
    "print(a)"
   ]
  },
  {
   "cell_type": "code",
   "execution_count": 18,
   "metadata": {},
   "outputs": [
    {
     "name": "stdout",
     "output_type": "stream",
     "text": [
      "zmiana wartości w funkcji\n"
     ]
    }
   ],
   "source": [
    "a = 'wartość przed funkcją'\n",
    "\n",
    "def func():\n",
    "    global a\n",
    "    a = 'zmiana wartości w funkcji'\n",
    "\n",
    "a = 'zmiana wartość po funkcji'\n",
    "\n",
    "func()\n",
    "print(a)"
   ]
  },
  {
   "cell_type": "code",
   "execution_count": 19,
   "metadata": {},
   "outputs": [
    {
     "name": "stdout",
     "output_type": "stream",
     "text": [
      "['wartość w tablicy', 'nowa wartość']\n"
     ]
    }
   ],
   "source": [
    "a = ['wartość w tablicy']\n",
    "\n",
    "def func():\n",
    "    a.append('nowa wartość')\n",
    "\n",
    "func()\n",
    "print(a)"
   ]
  },
  {
   "cell_type": "code",
   "execution_count": 20,
   "metadata": {},
   "outputs": [
    {
     "name": "stdout",
     "output_type": "stream",
     "text": [
      "['wartość w tablicy', 'przed wywołaniem', 'nowa wartość', 'po wywołaniu']\n"
     ]
    }
   ],
   "source": [
    "a = ['wartość w tablicy']\n",
    "\n",
    "def func():\n",
    "    a.append('nowa wartość')\n",
    "\n",
    "a.append('przed wywołaniem')\n",
    "func()\n",
    "a.append('po wywołaniu')\n",
    "print(a)"
   ]
  },
  {
   "cell_type": "code",
   "execution_count": 21,
   "metadata": {},
   "outputs": [
    {
     "name": "stdout",
     "output_type": "stream",
     "text": [
      "['wartość w tablicy', 'nowa wartość']\n"
     ]
    }
   ],
   "source": [
    "A = ['wartość w tablicy']\n",
    "\n",
    "def func(a):\n",
    "    a.append('nowa wartość')\n",
    "\n",
    "func(A)\n",
    "print(A)"
   ]
  },
  {
   "cell_type": "code",
   "execution_count": 22,
   "metadata": {},
   "outputs": [
    {
     "name": "stdout",
     "output_type": "stream",
     "text": [
      "['wartość w tablicy', 'nowa wartość']\n"
     ]
    }
   ],
   "source": [
    "a = ['wartość w tablicy']\n",
    "\n",
    "def func(a):\n",
    "    a.append('nowa wartość')\n",
    "\n",
    "func(A[:])\n",
    "print(A)"
   ]
  },
  {
   "cell_type": "code",
   "execution_count": 23,
   "metadata": {},
   "outputs": [
    {
     "name": "stdout",
     "output_type": "stream",
     "text": [
      "['wartość w tablicy', 'nowa wartość', 'nowa wartość']\n"
     ]
    }
   ],
   "source": [
    "a = ['wartość w tablicy']\n",
    "\n",
    "def func(a):\n",
    "    a.append('nowa wartość')\n",
    "    return a\n",
    "\n",
    "A = func(A[:])\n",
    "print(A)"
   ]
  },
  {
   "cell_type": "code",
   "execution_count": 24,
   "metadata": {},
   "outputs": [
    {
     "name": "stdout",
     "output_type": "stream",
     "text": [
      "Brakuje mi a\n"
     ]
    }
   ],
   "source": [
    "a = ['wartość w tablicy']\n",
    "\n",
    "def func():\n",
    "    a.append('nowa wartość')\n",
    "\n",
    "del a\n",
    "try:\n",
    "    func()\n",
    "except NameError:\n",
    "    print(\"Brakuje mi a\")"
   ]
  },
  {
   "cell_type": "code",
   "execution_count": 25,
   "metadata": {},
   "outputs": [
    {
     "name": "stdout",
     "output_type": "stream",
     "text": [
      "['wartość w tablicy', 'nowa wartość']\n"
     ]
    }
   ],
   "source": [
    "A = ['wartość w tablicy']\n",
    "\n",
    "def meta_func(a):\n",
    "    def inner_func():\n",
    "        a.append('nowa wartość')\n",
    "    \n",
    "    return inner_func\n",
    "\n",
    "func = meta_func(A)\n",
    "func()\n",
    "print(A)"
   ]
  },
  {
   "cell_type": "code",
   "execution_count": 26,
   "metadata": {},
   "outputs": [
    {
     "name": "stdout",
     "output_type": "stream",
     "text": [
      "['wartość w tablicy']\n",
      "['inna tablica', 'nowa wartość']\n",
      "\n",
      "['wartość w tablicy', 'nowa wartość']\n",
      "['inna tablica', 'nowa wartość']\n"
     ]
    }
   ],
   "source": [
    "A = ['wartość w tablicy']\n",
    "\n",
    "def meta_func(a):\n",
    "    def inner_func(a=A):\n",
    "        a.append('nowa wartość')\n",
    "    \n",
    "    return inner_func\n",
    "\n",
    "func = meta_func(A)\n",
    "a = ['inna tablica']\n",
    "func(a)\n",
    "print(A)\n",
    "print(a)\n",
    "print()\n",
    "func()\n",
    "print(A)\n",
    "print(a)"
   ]
  },
  {
   "cell_type": "code",
   "execution_count": 27,
   "metadata": {},
   "outputs": [
    {
     "name": "stdout",
     "output_type": "stream",
     "text": [
      "[]\n",
      "['wartość w tablicy', 'nowa wartość']\n"
     ]
    }
   ],
   "source": [
    "A = ['wartość w tablicy']\n",
    "\n",
    "def meta_func(a):\n",
    "    def inner_func():\n",
    "        a.append('nowa wartość')\n",
    "        return a\n",
    "    \n",
    "    return inner_func\n",
    "\n",
    "func = meta_func(A)\n",
    "A = []\n",
    "B = func()\n",
    "print(A)\n",
    "print(B)"
   ]
  },
  {
   "cell_type": "code",
   "execution_count": 28,
   "metadata": {},
   "outputs": [
    {
     "name": "stdout",
     "output_type": "stream",
     "text": [
      "['nowa wartość']\n",
      "['nowa wartość']\n"
     ]
    }
   ],
   "source": [
    "A = ['wartość w tablicy']\n",
    "\n",
    "def meta_func(a):\n",
    "    def inner_func():\n",
    "        a.append('nowa wartość')\n",
    "        return a\n",
    "    \n",
    "    return inner_func\n",
    "\n",
    "func = meta_func(A)\n",
    "A.clear()\n",
    "B = func()\n",
    "print(A)\n",
    "print(B)"
   ]
  },
  {
   "cell_type": "code",
   "execution_count": 29,
   "metadata": {},
   "outputs": [
    {
     "name": "stdout",
     "output_type": "stream",
     "text": [
      "Środeczek\n",
      "\n",
      "Początek\n",
      "Środeczek\n",
      "Koniec\n"
     ]
    }
   ],
   "source": [
    "def meta_func(func):\n",
    "    def inner_func():\n",
    "        print(\"Początek\")\n",
    "        func()\n",
    "        print(\"Koniec\")\n",
    "    \n",
    "    return inner_func\n",
    "\n",
    "def func():\n",
    "    print(\"Środeczek\")\n",
    "\n",
    "decorated_func = meta_func(func)\n",
    "\n",
    "func()\n",
    "print()\n",
    "decorated_func()"
   ]
  },
  {
   "cell_type": "code",
   "execution_count": 30,
   "metadata": {},
   "outputs": [
    {
     "name": "stdout",
     "output_type": "stream",
     "text": [
      "Początek\n",
      "Środeczek\n",
      "Koniec\n"
     ]
    }
   ],
   "source": [
    "@meta_func\n",
    "def func():\n",
    "    print(\"Środeczek\")\n",
    "\n",
    "func()"
   ]
  },
  {
   "cell_type": "code",
   "execution_count": 31,
   "metadata": {},
   "outputs": [
    {
     "name": "stdout",
     "output_type": "stream",
     "text": [
      "Początek\n",
      "Środeczek\n",
      "Koniec\n"
     ]
    }
   ],
   "source": [
    "def func():\n",
    "    print(\"Środeczek\")\n",
    "\n",
    "func = meta_func(func)\n",
    "\n",
    "func()"
   ]
  },
  {
   "cell_type": "code",
   "execution_count": 32,
   "metadata": {},
   "outputs": [
    {
     "name": "stdout",
     "output_type": "stream",
     "text": [
      "Brakuje mi parametrów\n"
     ]
    }
   ],
   "source": [
    "def meta_func(func):\n",
    "    def inner_func():\n",
    "        print(\"Początek\")\n",
    "        func()\n",
    "        print(\"Koniec\")\n",
    "    \n",
    "    return inner_func\n",
    "\n",
    "@meta_func\n",
    "def func(a, b):\n",
    "    print(\"%s, %s\" % (a, b))\n",
    "\n",
    "try:\n",
    "    func('a', 'b')\n",
    "except TypeError:\n",
    "    print(\"Brakuje mi parametrów\")"
   ]
  },
  {
   "cell_type": "code",
   "execution_count": 33,
   "metadata": {},
   "outputs": [
    {
     "name": "stdout",
     "output_type": "stream",
     "text": [
      "Początek\n",
      "a, b\n",
      "Koniec\n"
     ]
    }
   ],
   "source": [
    "def meta_func(func):\n",
    "    def inner_func(a, b):\n",
    "        print(\"Początek\")\n",
    "        func(a, b)\n",
    "        print(\"Koniec\")\n",
    "    \n",
    "    return inner_func\n",
    "\n",
    "@meta_func\n",
    "def func(a, b):\n",
    "    print(\"%s, %s\" % (a, b))\n",
    "\n",
    "func('a', 'b')"
   ]
  },
  {
   "cell_type": "code",
   "execution_count": 34,
   "metadata": {},
   "outputs": [
    {
     "name": "stdout",
     "output_type": "stream",
     "text": [
      "Początek\n",
      "Brakuje mi czegoś..\n"
     ]
    }
   ],
   "source": [
    "def meta_func(func):\n",
    "    def inner_func(a, b):\n",
    "        print(\"Początek\")\n",
    "        func(a, b)\n",
    "        print(\"Koniec\")\n",
    "    \n",
    "    return inner_func\n",
    "\n",
    "@meta_func\n",
    "def func(a, b, c):\n",
    "    print(\"%s, %s, %s\" % (a, b, c))\n",
    "\n",
    "try:\n",
    "    func('a', 'b')\n",
    "except TypeError:\n",
    "    print(\"Brakuje mi czegoś..\")"
   ]
  },
  {
   "cell_type": "code",
   "execution_count": 35,
   "metadata": {},
   "outputs": [
    {
     "name": "stdout",
     "output_type": "stream",
     "text": [
      "Początek\n",
      "Brakuje mi czegoś..\n"
     ]
    }
   ],
   "source": [
    "def meta_func(func):\n",
    "    def inner_func(*args):\n",
    "        print(\"Początek\")\n",
    "        func(args)\n",
    "        print(\"Koniec\")\n",
    "    \n",
    "    return inner_func\n",
    "\n",
    "@meta_func\n",
    "def func(a, b, c):\n",
    "    print(\"%s, %s, %s\" % (a, b, c))\n",
    "\n",
    "try:\n",
    "    func('a', 'b', 'c')\n",
    "except TypeError:\n",
    "    print(\"Brakuje mi czegoś..\")"
   ]
  },
  {
   "cell_type": "code",
   "execution_count": 36,
   "metadata": {},
   "outputs": [
    {
     "name": "stdout",
     "output_type": "stream",
     "text": [
      "Początek\n",
      "a, b, c\n",
      "Koniec\n"
     ]
    }
   ],
   "source": [
    "def meta_func(func):\n",
    "    def inner_func(*args):\n",
    "        print(\"Początek\")\n",
    "        func(*args)\n",
    "        print(\"Koniec\")\n",
    "    \n",
    "    return inner_func\n",
    "\n",
    "@meta_func\n",
    "def func(a, b, c):\n",
    "    print(\"%s, %s, %s\" % (a, b, c))\n",
    "\n",
    "func('a', 'b', 'c')"
   ]
  },
  {
   "cell_type": "code",
   "execution_count": 37,
   "metadata": {},
   "outputs": [
    {
     "name": "stdout",
     "output_type": "stream",
     "text": [
      "Początek\n",
      "a, b, c, 0\n",
      "Koniec\n",
      "Początek\n",
      "a, b, c, d\n",
      "Koniec\n",
      "Brakuje mi czegoś..\n"
     ]
    }
   ],
   "source": [
    "def meta_func(func):\n",
    "    def inner_func(*args):\n",
    "        print(\"Początek\")\n",
    "        func(*args)\n",
    "        print(\"Koniec\")\n",
    "    \n",
    "    return inner_func\n",
    "\n",
    "@meta_func\n",
    "def func(a, b, c, d=0):\n",
    "    print(\"%s, %s, %s, %s\" % (a, b, c, d))\n",
    "\n",
    "func('a', 'b', 'c')\n",
    "func('a', 'b', 'c', 'd')\n",
    "# func('a', 'b', 'c', 'd', 'e')\n",
    "try:\n",
    "    func('a', 'b', 'c', d='d')\n",
    "except TypeError:\n",
    "    print(\"Brakuje mi czegoś..\")"
   ]
  },
  {
   "cell_type": "code",
   "execution_count": 38,
   "metadata": {},
   "outputs": [
    {
     "name": "stdout",
     "output_type": "stream",
     "text": [
      "Początek\n",
      "a, b, c, 0\n",
      "Koniec\n",
      "Początek\n",
      "a, b, c, d\n",
      "Koniec\n",
      "Początek\n",
      "a, b, c, d\n",
      "Koniec\n"
     ]
    }
   ],
   "source": [
    "def meta_func(func):\n",
    "    def inner_func(*args, **kwargs):\n",
    "        print(\"Początek\")\n",
    "        func(*args, **kwargs)\n",
    "        print(\"Koniec\")\n",
    "    \n",
    "    return inner_func\n",
    "\n",
    "@meta_func\n",
    "def func(a, b, c, d=0):\n",
    "    print(\"%s, %s, %s, %s\" % (a, b, c, d))\n",
    "\n",
    "func('a', 'b', 'c')\n",
    "func('a', 'b', 'c', 'd')\n",
    "func('a', 'b', 'c', d='d')\n",
    "# func('a', 'b', 'c', 'd', 'e')"
   ]
  },
  {
   "cell_type": "code",
   "execution_count": 39,
   "metadata": {},
   "outputs": [
    {
     "name": "stdout",
     "output_type": "stream",
     "text": [
      "Początek\n",
      "1, 2, 3, testowy obiekt\n",
      "Koniec\n",
      "Początek\n",
      "1, 2, C, testowy obiekt\n",
      "Koniec\n"
     ]
    }
   ],
   "source": [
    "def meta_func(func):\n",
    "    def inner_func(*args, **kwargs):\n",
    "        print(\"Początek\")\n",
    "        func(*args, **kwargs)\n",
    "        print(\"Koniec\")\n",
    "    \n",
    "    return inner_func\n",
    "\n",
    "class Object(object):\n",
    "    def __init__(self, arg):\n",
    "        self.__field = arg\n",
    "    @meta_func\n",
    "    def method(self, a, b, c=3):\n",
    "        print(\"%s, %s, %s, %s\" % (a, b, c, self.__field))\n",
    "\n",
    "o = Object('testowy obiekt')\n",
    "o.method(1, 2)\n",
    "o.method(1, 2, 'C')"
   ]
  },
  {
   "cell_type": "code",
   "execution_count": 40,
   "metadata": {},
   "outputs": [
    {
     "name": "stdout",
     "output_type": "stream",
     "text": [
      "Początek\n",
      "1, 2, 3, testowy obiekt\n",
      "Koniec\n",
      "Ojej, coś jest nie tak tutaj..\n"
     ]
    }
   ],
   "source": [
    "def meta_func(func):\n",
    "    def inner_func(a, b, c):\n",
    "        print(\"Początek\")\n",
    "        func(a, b, c)\n",
    "        print(\"Koniec\")\n",
    "    \n",
    "    return inner_func\n",
    "\n",
    "class Object(object):\n",
    "    def __init__(self, arg):\n",
    "        self.__field = arg\n",
    "    @meta_func\n",
    "    def method(self, a, b, c=3):\n",
    "        print(\"%s, %s, %s, %s\" % (a, b, c, self.__field))\n",
    "\n",
    "o = Object('testowy obiekt')\n",
    "o.method(1, 2)\n",
    "try:\n",
    "    o.method(1, 2, 'C')\n",
    "except TypeError:\n",
    "    print(\"Ojej, coś jest nie tak tutaj..\")"
   ]
  },
  {
   "cell_type": "code",
   "execution_count": 41,
   "metadata": {},
   "outputs": [
    {
     "name": "stdout",
     "output_type": "stream",
     "text": [
      "Początek\n",
      "1, 2, 3, testowy obiekt\n",
      "Koniec\n",
      "Początek\n",
      "1, 2, C, testowy obiekt\n",
      "Koniec\n"
     ]
    }
   ],
   "source": [
    "def meta_func(func):\n",
    "    def inner_func(self, a, b, c=3):\n",
    "        print(\"Początek\")\n",
    "        func(self, a, b, c)\n",
    "        print(\"Koniec\")\n",
    "    \n",
    "    return inner_func\n",
    "\n",
    "class Object(object):\n",
    "    def __init__(self, arg):\n",
    "        self.__field = arg\n",
    "    @meta_func\n",
    "    def method(self, a, b, c=3):\n",
    "        print(\"%s, %s, %s, %s\" % (a, b, c, self.__field))\n",
    "\n",
    "o = Object('testowy obiekt')\n",
    "o.method(1, 2)\n",
    "o.method(1, 2, 'C')"
   ]
  },
  {
   "cell_type": "code",
   "execution_count": null,
   "metadata": {},
   "outputs": [],
   "source": []
  }
 ],
 "metadata": {
  "kernelspec": {
   "display_name": "Python 3",
   "language": "python",
   "name": "python3"
  },
  "language_info": {
   "codemirror_mode": {
    "name": "ipython",
    "version": 3
   },
   "file_extension": ".py",
   "mimetype": "text/x-python",
   "name": "python",
   "nbconvert_exporter": "python",
   "pygments_lexer": "ipython3",
   "version": "3.7.3"
  }
 },
 "nbformat": 4,
 "nbformat_minor": 2
}
