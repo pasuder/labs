{
 "cells": [
  {
   "cell_type": "markdown",
   "metadata": {},
   "source": [
    "# Zadania"
   ]
  },
  {
   "cell_type": "code",
   "execution_count": 1,
   "metadata": {},
   "outputs": [],
   "source": [
    "# Wykonaj odwracanie listy:\n",
    "# [1,5,2,6,7,1,6] -> [6,1,7,6,2,5,1]"
   ]
  },
  {
   "cell_type": "code",
   "execution_count": 2,
   "metadata": {},
   "outputs": [],
   "source": [
    "# Wykonaj redukcję duplikatów w liście:\n",
    "# [2,4,7,1,6,8,1,2,4] -> [1,2,4,6,7,8]"
   ]
  },
  {
   "cell_type": "code",
   "execution_count": 3,
   "metadata": {},
   "outputs": [],
   "source": [
    "# Wykonaj podział listy na listę z trzy elementowymi krotkami:\n",
    "# [4,2,4,7,1,2,4,6,8] -> [(4,2,4),(7,1,2),(4,6,8),(9,)]"
   ]
  },
  {
   "cell_type": "code",
   "execution_count": 4,
   "metadata": {},
   "outputs": [],
   "source": [
    "# Wykonaj zliczanie znaków w zdaniu: \"Dzień dobry wszystkim!\""
   ]
  },
  {
   "cell_type": "code",
   "execution_count": 5,
   "metadata": {},
   "outputs": [],
   "source": [
    "# Wykonaj zamianę znaku \"z\" w zdaniu: \"Dzień dobry wszystkim!\"\n",
    "# na znak \"Z\": \"DZień dobry wsZystkim!\""
   ]
  },
  {
   "cell_type": "code",
   "execution_count": 6,
   "metadata": {},
   "outputs": [],
   "source": [
    "# Wykonaj redukcję nadwymiarowych spacji w tekście:\n",
    "# \"Wyszedłem  rano na   zawnątrz i sypał   śnieg.\" ->\n",
    "# \"Wyszedłem rano na zawnątrz i sypał śnieg.\""
   ]
  },
  {
   "cell_type": "code",
   "execution_count": 7,
   "metadata": {},
   "outputs": [],
   "source": [
    "# Wykonaj pętlę, która:\n",
    "# - zakończy się, gdy osiągnie liczbę '24' w liście\n",
    "# - będzie pomijać wykonywanie operacji dzielenia przez 2 \n",
    "#   dla liczb nieparzystych\n",
    "# Lista: [10, 11, 12, 13, 14, 15, 16, 17, 18, 19,\n",
    "#         20, 21, 22, 23, 24, 25, 26, 27, 28, 29]\n",
    "# Pro-tip: range(10,30)"
   ]
  },
  {
   "cell_type": "code",
   "execution_count": 8,
   "metadata": {},
   "outputs": [],
   "source": [
    "# Wykonaj pętlę, która:\n",
    "# - dla każdej liczby wykona mnożenie przez 3\n",
    "# - dla parzystych liczb wykona dzielnie przez 2\n",
    "# Lista: [10, 11, 12, 13, 14, 15, 16, 17, 18, 19,\n",
    "#         20, 21, 22, 23, 24, 25, 26, 27, 28, 29]\n",
    "# Pro-tip: range(10,30)"
   ]
  }
 ],
 "metadata": {
  "kernelspec": {
   "display_name": "Python 3",
   "language": "python",
   "name": "python3"
  },
  "language_info": {
   "codemirror_mode": {
    "name": "ipython",
    "version": 3
   },
   "file_extension": ".py",
   "mimetype": "text/x-python",
   "name": "python",
   "nbconvert_exporter": "python",
   "pygments_lexer": "ipython3",
   "version": "3.7.3"
  }
 },
 "nbformat": 4,
 "nbformat_minor": 2
}
