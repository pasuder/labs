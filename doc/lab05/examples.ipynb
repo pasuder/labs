{
 "cells": [
  {
   "cell_type": "markdown",
   "metadata": {},
   "source": [
    "Typy wbudowane - wybrane przykłady:\n",
    "\n",
    "- [prawda/fałsz](https://docs.python.org/3/library/stdtypes.html#truth-value-testing)\n",
    "- [numeryczne](https://docs.python.org/3/library/stdtypes.html#numeric-types-int-float-complex) `int` i [`float` ](https://docs.python.org/3/tutorial/floatingpoint.html) zgodna z IEEE-754\n",
    "- [ciągi znaków](https://docs.python.org/3/library/stdtypes.html#text-sequence-type-str)\n",
    "- [listy, krotki](https://docs.python.org/3/library/stdtypes.html#sequence-types-list-tuple-range)\n",
    "- [zbiory](https://docs.python.org/3/library/stdtypes.html#set-types-set-frozenset)\n",
    "- [słowniki](https://docs.python.org/3/library/stdtypes.html#mapping-types-dict)"
   ]
  },
  {
   "cell_type": "code",
   "execution_count": 1,
   "metadata": {},
   "outputs": [
    {
     "data": {
      "text/plain": [
       "bool"
      ]
     },
     "execution_count": 1,
     "metadata": {},
     "output_type": "execute_result"
    }
   ],
   "source": [
    "i = True\n",
    "type(i)"
   ]
  },
  {
   "cell_type": "code",
   "execution_count": 2,
   "metadata": {},
   "outputs": [
    {
     "data": {
      "text/plain": [
       "float"
      ]
     },
     "execution_count": 2,
     "metadata": {},
     "output_type": "execute_result"
    }
   ],
   "source": [
    "i = 1.0\n",
    "type(i)"
   ]
  },
  {
   "cell_type": "code",
   "execution_count": 3,
   "metadata": {},
   "outputs": [
    {
     "data": {
      "text/plain": [
       "int"
      ]
     },
     "execution_count": 3,
     "metadata": {},
     "output_type": "execute_result"
    }
   ],
   "source": [
    "i = 1\n",
    "type(i)"
   ]
  },
  {
   "cell_type": "code",
   "execution_count": 4,
   "metadata": {},
   "outputs": [
    {
     "data": {
      "text/plain": [
       "str"
      ]
     },
     "execution_count": 4,
     "metadata": {},
     "output_type": "execute_result"
    }
   ],
   "source": [
    "i = '1'\n",
    "type(i)"
   ]
  },
  {
   "cell_type": "code",
   "execution_count": 5,
   "metadata": {},
   "outputs": [
    {
     "data": {
      "text/plain": [
       "list"
      ]
     },
     "execution_count": 5,
     "metadata": {},
     "output_type": "execute_result"
    }
   ],
   "source": [
    "i = [0, 1, 2]\n",
    "type(i)"
   ]
  },
  {
   "cell_type": "code",
   "execution_count": 6,
   "metadata": {},
   "outputs": [
    {
     "data": {
      "text/plain": [
       "tuple"
      ]
     },
     "execution_count": 6,
     "metadata": {},
     "output_type": "execute_result"
    }
   ],
   "source": [
    "i = (0, 1, 2)\n",
    "type(i)"
   ]
  },
  {
   "cell_type": "code",
   "execution_count": 7,
   "metadata": {},
   "outputs": [
    {
     "data": {
      "text/plain": [
       "set"
      ]
     },
     "execution_count": 7,
     "metadata": {},
     "output_type": "execute_result"
    }
   ],
   "source": [
    "i = {0, 1, 2}\n",
    "type(i)"
   ]
  },
  {
   "cell_type": "code",
   "execution_count": 8,
   "metadata": {},
   "outputs": [
    {
     "data": {
      "text/plain": [
       "dict"
      ]
     },
     "execution_count": 8,
     "metadata": {},
     "output_type": "execute_result"
    }
   ],
   "source": [
    "i = {0:'0', 1:'1', 2:'2'}\n",
    "type(i)"
   ]
  },
  {
   "cell_type": "markdown",
   "metadata": {},
   "source": [
    "Instrukcje [sterujące](https://docs.python.org/3/tutorial/controlflow.html):\n",
    "\n",
    "- warunkowe [`if`](https://docs.python.org/3/tutorial/controlflow.html#if-statements)\n",
    "- pętle [`while`](https://docs.python.org/3/tutorial/introduction.html#first-steps-towards-programming) i [`for`](https://docs.python.org/3/tutorial/controlflow.html#for-statements)\n",
    "  - sterowanie w pętli przy pomocy [`break`, `continue` i `else`](https://docs.python.org/3/tutorial/controlflow.html#break-and-continue-statements-and-else-clauses-on-loops)\n",
    "- obsługi wyjątków przy pomocy [`try..except..else..finally`](https://docs.python.org/3/tutorial/errors.html#handling-exceptions)\n",
    "- kontekstu przy pomocy `with`"
   ]
  },
  {
   "cell_type": "code",
   "execution_count": 9,
   "metadata": {},
   "outputs": [
    {
     "name": "stdout",
     "output_type": "stream",
     "text": [
      "OK\n"
     ]
    }
   ],
   "source": [
    "i = True\n",
    "if i:\n",
    "    print('OK')\n",
    "else:\n",
    "    print('Nie OK')"
   ]
  },
  {
   "cell_type": "code",
   "execution_count": 10,
   "metadata": {},
   "outputs": [
    {
     "name": "stdout",
     "output_type": "stream",
     "text": [
      "Wieksze lub rowne 1\n"
     ]
    }
   ],
   "source": [
    "i = 2\n",
    "if i < 1:\n",
    "    print('Mniejsze niz 1')\n",
    "else:\n",
    "    print('Wieksze lub rowne 1')"
   ]
  },
  {
   "cell_type": "code",
   "execution_count": 11,
   "metadata": {},
   "outputs": [
    {
     "name": "stdout",
     "output_type": "stream",
     "text": [
      "Rowne 1\n"
     ]
    }
   ],
   "source": [
    "i = 1\n",
    "if i < 1:\n",
    "    print('Mniejsze niz 1')\n",
    "elif i > 1:\n",
    "    print('Wieksze niz 1')\n",
    "else:  # elif i == 1\n",
    "    print('Rowne 1')"
   ]
  },
  {
   "cell_type": "code",
   "execution_count": 12,
   "metadata": {},
   "outputs": [
    {
     "name": "stdout",
     "output_type": "stream",
     "text": [
      "1\n",
      "2\n",
      "I po petli\n",
      "3\n"
     ]
    }
   ],
   "source": [
    "i = 1\n",
    "while i < 3:\n",
    "    print(i)\n",
    "    i = i + 1\n",
    "print('I po petli')\n",
    "print(i)"
   ]
  },
  {
   "cell_type": "code",
   "execution_count": 13,
   "metadata": {},
   "outputs": [
    {
     "name": "stdout",
     "output_type": "stream",
     "text": [
      "1\n",
      "2\n",
      "3\n",
      "Koncz szybciej..\n",
      "Wynik koncowy 3\n"
     ]
    }
   ],
   "source": [
    "i = 1\n",
    "while i < 5:\n",
    "    print(i)\n",
    "    if i % 3 == 0:\n",
    "        print('Koncz szybciej..')\n",
    "        break\n",
    "    i = i + 1\n",
    "print('Wynik koncowy %d' % i)"
   ]
  },
  {
   "cell_type": "code",
   "execution_count": 14,
   "metadata": {},
   "outputs": [
    {
     "name": "stdout",
     "output_type": "stream",
     "text": [
      "Nic nie zrobilem..\n"
     ]
    }
   ],
   "source": [
    "i = 3\n",
    "while i < 2:\n",
    "    print(i)\n",
    "else:\n",
    "    print('Nic nie zrobilem..')"
   ]
  },
  {
   "cell_type": "code",
   "execution_count": 15,
   "metadata": {},
   "outputs": [
    {
     "name": "stdout",
     "output_type": "stream",
     "text": [
      "1\n",
      "Mnoze przez 3 i dodaje 1 do 1\n",
      "4\n",
      "Dodaje 1 do 4\n",
      "5\n",
      "Mnoze przez 3 i dodaje 1 do 5\n",
      "16\n",
      "Dodaje 1 do 16\n",
      "17\n",
      "Mnoze przez 3 i dodaje 1 do 17\n",
      "Wynik koncowy 52\n"
     ]
    }
   ],
   "source": [
    "i = 1\n",
    "while i < 21:\n",
    "    print(i)\n",
    "    if i % 2 == 1:\n",
    "        print('Mnoze przez 3 i dodaje 1 do %d' % i)\n",
    "        i = i * 3 + 1\n",
    "        continue\n",
    "    print('Dodaje 1 do %d' % i)\n",
    "    i = i + 1\n",
    "print('Wynik koncowy %d' % i)"
   ]
  },
  {
   "cell_type": "markdown",
   "metadata": {},
   "source": [
    "Typy, które można wywołać:\n",
    "\n",
    "- [funkcje](https://docs.python.org/3/tutorial/controlflow.html#defining-functions)\n",
    "  - [lambda](https://docs.python.org/3/tutorial/controlflow.html#lambda-expressions)\n",
    "- [klasy](https://docs.python.org/3/tutorial/classes.html#class-objects) aby utworzy obiekty danej klasy\n",
    "  - [metody]()\n",
    "- [generatory](https://docs.python.org/3/tutorial/classes.html#generators)\n",
    "  - [list comprehension](https://docs.python.org/3/tutorial/datastructures.html#list-comprehensions)\n",
    "- [dekoratory](https://docs.python.org/3/glossary.html#term-decorator)"
   ]
  },
  {
   "cell_type": "code",
   "execution_count": 16,
   "metadata": {},
   "outputs": [
    {
     "name": "stdout",
     "output_type": "stream",
     "text": [
      "Cos tu napisze..\n"
     ]
    }
   ],
   "source": [
    "def func(a):\n",
    "    print(a)\n",
    "\n",
    "func('Cos tu napisze..')"
   ]
  },
  {
   "cell_type": "code",
   "execution_count": 17,
   "metadata": {},
   "outputs": [
    {
     "name": "stdout",
     "output_type": "stream",
     "text": [
      "5\n"
     ]
    }
   ],
   "source": [
    "func = lambda a: a+2\n",
    "\n",
    "print(func(3))"
   ]
  },
  {
   "cell_type": "code",
   "execution_count": 18,
   "metadata": {},
   "outputs": [
    {
     "name": "stdout",
     "output_type": "stream",
     "text": [
      "Testowy obiekt: dodatkowy tekst\n"
     ]
    }
   ],
   "source": [
    "class Object(object):\n",
    "    def __init__(self, attr):\n",
    "        self.__attr = attr\n",
    "    def do_something(self, param):\n",
    "        return '%s: %s' % (self.__attr, param)\n",
    "\n",
    "o = Object('Testowy obiekt')\n",
    "print(o.do_something('dodatkowy tekst'))"
   ]
  },
  {
   "cell_type": "code",
   "execution_count": 19,
   "metadata": {},
   "outputs": [
    {
     "name": "stdout",
     "output_type": "stream",
     "text": [
      "Obiekt klasy A\n",
      "Obiekt klasy A\n",
      "Obiekt klasy B\n",
      "Obiekt klasy A\n"
     ]
    }
   ],
   "source": [
    "class A(object):\n",
    "    def method(self):\n",
    "        print('Obiekt klasy A')\n",
    "    def base_method(self):\n",
    "        print('Obiekt klasy A')\n",
    "\n",
    "class B(A):\n",
    "    def method(self):\n",
    "        print('Obiekt klasy B')\n",
    "\n",
    "a = A()\n",
    "b = B()\n",
    "a.method()\n",
    "a.base_method()\n",
    "b.method()\n",
    "b.base_method()"
   ]
  },
  {
   "cell_type": "code",
   "execution_count": 20,
   "metadata": {},
   "outputs": [
    {
     "name": "stdout",
     "output_type": "stream",
     "text": [
      "Obiekt klasy A\n",
      "Obiekt klasy B\n",
      "Obiekt klasy A\n"
     ]
    }
   ],
   "source": [
    "class A(object):\n",
    "    def method(self):\n",
    "        print('Obiekt klasy A')\n",
    "\n",
    "class B(object):\n",
    "    def method(self):\n",
    "        print('Obiekt klasy B')\n",
    "\n",
    "class C(A, B):\n",
    "    pass\n",
    "\n",
    "a, b, c = A(), B(), C()\n",
    "a.method()\n",
    "b.method()\n",
    "c.method()"
   ]
  },
  {
   "cell_type": "code",
   "execution_count": 21,
   "metadata": {},
   "outputs": [
    {
     "name": "stdout",
     "output_type": "stream",
     "text": [
      "Obiekt klasy A\n",
      "Obiekt klasy B\n",
      "Obiekt klasy B\n"
     ]
    }
   ],
   "source": [
    "class A(object):\n",
    "    def method(self):\n",
    "        print('Obiekt klasy A')\n",
    "\n",
    "class B(object):\n",
    "    def method(self):\n",
    "        print('Obiekt klasy B')\n",
    "\n",
    "class C(B, A):\n",
    "    pass\n",
    "\n",
    "a, b, c = A(), B(), C()\n",
    "a.method()\n",
    "b.method()\n",
    "c.method()"
   ]
  },
  {
   "cell_type": "code",
   "execution_count": 22,
   "metadata": {},
   "outputs": [
    {
     "ename": "TypeError",
     "evalue": "Cannot create a consistent method resolution\norder (MRO) for bases A, B",
     "output_type": "error",
     "traceback": [
      "\u001b[0;31m---------------------------------------------------------------------------\u001b[0m",
      "\u001b[0;31mTypeError\u001b[0m                                 Traceback (most recent call last)",
      "\u001b[0;32m<ipython-input-22-b193091c3440>\u001b[0m in \u001b[0;36m<module>\u001b[0;34m\u001b[0m\n\u001b[1;32m      7\u001b[0m         \u001b[0mprint\u001b[0m\u001b[0;34m(\u001b[0m\u001b[0;34m'Obiekt klasy B'\u001b[0m\u001b[0;34m)\u001b[0m\u001b[0;34m\u001b[0m\u001b[0;34m\u001b[0m\u001b[0m\n\u001b[1;32m      8\u001b[0m \u001b[0;34m\u001b[0m\u001b[0m\n\u001b[0;32m----> 9\u001b[0;31m \u001b[0;32mclass\u001b[0m \u001b[0mC\u001b[0m\u001b[0;34m(\u001b[0m\u001b[0mA\u001b[0m\u001b[0;34m,\u001b[0m \u001b[0mB\u001b[0m\u001b[0;34m)\u001b[0m\u001b[0;34m:\u001b[0m\u001b[0;34m\u001b[0m\u001b[0;34m\u001b[0m\u001b[0m\n\u001b[0m\u001b[1;32m     10\u001b[0m     \u001b[0;32mdef\u001b[0m \u001b[0mmethod\u001b[0m\u001b[0;34m(\u001b[0m\u001b[0mself\u001b[0m\u001b[0;34m)\u001b[0m\u001b[0;34m:\u001b[0m\u001b[0;34m\u001b[0m\u001b[0;34m\u001b[0m\u001b[0m\n\u001b[1;32m     11\u001b[0m         \u001b[0mprint\u001b[0m\u001b[0;34m(\u001b[0m\u001b[0;34m'Obiekt klasy C'\u001b[0m\u001b[0;34m)\u001b[0m\u001b[0;34m\u001b[0m\u001b[0;34m\u001b[0m\u001b[0m\n",
      "\u001b[0;31mTypeError\u001b[0m: Cannot create a consistent method resolution\norder (MRO) for bases A, B"
     ]
    }
   ],
   "source": [
    "class A(object):\n",
    "    def method(self):\n",
    "        print('Obiekt klasy A')\n",
    "\n",
    "class B(A):\n",
    "    def method(self):\n",
    "        print('Obiekt klasy B')\n",
    "\n",
    "class C(A, B):\n",
    "    def method(self):\n",
    "        print('Obiekt klasy C')"
   ]
  },
  {
   "cell_type": "code",
   "execution_count": 23,
   "metadata": {},
   "outputs": [
    {
     "name": "stdout",
     "output_type": "stream",
     "text": [
      "Obiekt klasy C\n"
     ]
    }
   ],
   "source": [
    "class A(object):\n",
    "    def method(self):\n",
    "        print('Obiekt klasy A')\n",
    "\n",
    "class B(A):\n",
    "    def method(self):\n",
    "        print('Obiekt klasy B')\n",
    "\n",
    "class C(B, A):\n",
    "    def method(self):\n",
    "        print('Obiekt klasy C')\n",
    "\n",
    "c = C()\n",
    "c.method()"
   ]
  },
  {
   "cell_type": "code",
   "execution_count": 24,
   "metadata": {},
   "outputs": [
    {
     "name": "stdout",
     "output_type": "stream",
     "text": [
      "Publiczne pole obiektu klasy A\n",
      "Publiczne pole obiektu klasy B\n"
     ]
    }
   ],
   "source": [
    "class A(object):\n",
    "    def __init__(self):\n",
    "        self.public = 'Publiczne pole obiektu klasy A'\n",
    "    def method(self):\n",
    "        print(self.public)\n",
    "\n",
    "class B(A):\n",
    "    def __init__(self):\n",
    "        self.public = 'Publiczne pole obiektu klasy B'\n",
    "\n",
    "a, b = A(), B()\n",
    "a.method()\n",
    "b.method()"
   ]
  },
  {
   "cell_type": "code",
   "execution_count": 25,
   "metadata": {},
   "outputs": [
    {
     "name": "stdout",
     "output_type": "stream",
     "text": [
      "Prywatne pole obiektu klasy A\n"
     ]
    },
    {
     "ename": "AttributeError",
     "evalue": "'B' object has no attribute '_A__private'",
     "output_type": "error",
     "traceback": [
      "\u001b[0;31m---------------------------------------------------------------------------\u001b[0m",
      "\u001b[0;31mAttributeError\u001b[0m                            Traceback (most recent call last)",
      "\u001b[0;32m<ipython-input-25-d46c44b27ffc>\u001b[0m in \u001b[0;36m<module>\u001b[0;34m\u001b[0m\n\u001b[1;32m     11\u001b[0m \u001b[0ma\u001b[0m\u001b[0;34m,\u001b[0m \u001b[0mb\u001b[0m \u001b[0;34m=\u001b[0m \u001b[0mA\u001b[0m\u001b[0;34m(\u001b[0m\u001b[0;34m)\u001b[0m\u001b[0;34m,\u001b[0m \u001b[0mB\u001b[0m\u001b[0;34m(\u001b[0m\u001b[0;34m)\u001b[0m\u001b[0;34m\u001b[0m\u001b[0;34m\u001b[0m\u001b[0m\n\u001b[1;32m     12\u001b[0m \u001b[0ma\u001b[0m\u001b[0;34m.\u001b[0m\u001b[0mmethod\u001b[0m\u001b[0;34m(\u001b[0m\u001b[0;34m)\u001b[0m\u001b[0;34m\u001b[0m\u001b[0;34m\u001b[0m\u001b[0m\n\u001b[0;32m---> 13\u001b[0;31m \u001b[0mb\u001b[0m\u001b[0;34m.\u001b[0m\u001b[0mmethod\u001b[0m\u001b[0;34m(\u001b[0m\u001b[0;34m)\u001b[0m\u001b[0;34m\u001b[0m\u001b[0;34m\u001b[0m\u001b[0m\n\u001b[0m",
      "\u001b[0;32m<ipython-input-25-d46c44b27ffc>\u001b[0m in \u001b[0;36mmethod\u001b[0;34m(self)\u001b[0m\n\u001b[1;32m      3\u001b[0m         \u001b[0mself\u001b[0m\u001b[0;34m.\u001b[0m\u001b[0m__private\u001b[0m \u001b[0;34m=\u001b[0m \u001b[0;34m'Prywatne pole obiektu klasy A'\u001b[0m\u001b[0;34m\u001b[0m\u001b[0;34m\u001b[0m\u001b[0m\n\u001b[1;32m      4\u001b[0m     \u001b[0;32mdef\u001b[0m \u001b[0mmethod\u001b[0m\u001b[0;34m(\u001b[0m\u001b[0mself\u001b[0m\u001b[0;34m)\u001b[0m\u001b[0;34m:\u001b[0m\u001b[0;34m\u001b[0m\u001b[0;34m\u001b[0m\u001b[0m\n\u001b[0;32m----> 5\u001b[0;31m         \u001b[0mprint\u001b[0m\u001b[0;34m(\u001b[0m\u001b[0mself\u001b[0m\u001b[0;34m.\u001b[0m\u001b[0m__private\u001b[0m\u001b[0;34m)\u001b[0m\u001b[0;34m\u001b[0m\u001b[0;34m\u001b[0m\u001b[0m\n\u001b[0m\u001b[1;32m      6\u001b[0m \u001b[0;34m\u001b[0m\u001b[0m\n\u001b[1;32m      7\u001b[0m \u001b[0;32mclass\u001b[0m \u001b[0mB\u001b[0m\u001b[0;34m(\u001b[0m\u001b[0mA\u001b[0m\u001b[0;34m)\u001b[0m\u001b[0;34m:\u001b[0m\u001b[0;34m\u001b[0m\u001b[0;34m\u001b[0m\u001b[0m\n",
      "\u001b[0;31mAttributeError\u001b[0m: 'B' object has no attribute '_A__private'"
     ]
    }
   ],
   "source": [
    "class A(object):\n",
    "    def __init__(self):\n",
    "        self.__private = 'Prywatne pole obiektu klasy A'\n",
    "    def method(self):\n",
    "        print(self.__private)\n",
    "\n",
    "class B(A):\n",
    "    def __init__(self):\n",
    "        self.__private = 'Prywatne pole obiektu klasy B'\n",
    "\n",
    "a, b = A(), B()\n",
    "a.method()\n",
    "b.method()"
   ]
  },
  {
   "cell_type": "markdown",
   "metadata": {},
   "source": [
    "## Dodatkowe wyjaśnienia\n",
    "\n",
    "- o MRO, dlaczego tak, a nie inaczej działa przeszukiwanie metod w dziedziczeniu\n",
    "- o dostępach do pól publicznych i prywatnych w dziedziczeniu\n",
    "    - wyjaśnić property raz jeszcze\n",
    "- o abstractmethod - jak się z tego korzysta\n",
    "    - o staticmethod i classmethod - po co to jest?\n"
   ]
  },
  {
   "cell_type": "code",
   "execution_count": 26,
   "metadata": {},
   "outputs": [
    {
     "ename": "TypeError",
     "evalue": "Cannot create a consistent method resolution\norder (MRO) for bases A, B",
     "output_type": "error",
     "traceback": [
      "\u001b[0;31m---------------------------------------------------------------------------\u001b[0m",
      "\u001b[0;31mTypeError\u001b[0m                                 Traceback (most recent call last)",
      "\u001b[0;32m<ipython-input-26-d257b93fbbb7>\u001b[0m in \u001b[0;36m<module>\u001b[0;34m\u001b[0m\n\u001b[1;32m     26\u001b[0m \"\"\"\n\u001b[1;32m     27\u001b[0m \u001b[0;34m\u001b[0m\u001b[0m\n\u001b[0;32m---> 28\u001b[0;31m \u001b[0;32mclass\u001b[0m \u001b[0mC\u001b[0m\u001b[0;34m(\u001b[0m\u001b[0mA\u001b[0m\u001b[0;34m,\u001b[0m \u001b[0mB\u001b[0m\u001b[0;34m)\u001b[0m\u001b[0;34m:\u001b[0m\u001b[0;34m\u001b[0m\u001b[0;34m\u001b[0m\u001b[0m\n\u001b[0m\u001b[1;32m     29\u001b[0m     \u001b[0;32mpass\u001b[0m\u001b[0;34m\u001b[0m\u001b[0;34m\u001b[0m\u001b[0m\n",
      "\u001b[0;31mTypeError\u001b[0m: Cannot create a consistent method resolution\norder (MRO) for bases A, B"
     ]
    }
   ],
   "source": [
    "class A(object):\n",
    "    pass\n",
    "\n",
    "class B(A):\n",
    "    pass\n",
    "\n",
    "\n",
    "\"\"\"\n",
    "Próbujemy zrobić przypadek, gdzie graf dziedziczenia\n",
    "wygląda następująco:\n",
    "\n",
    "    object\n",
    "    |\n",
    "    A\n",
    "   /|\n",
    "  | B\n",
    "   \\|\n",
    "    C\n",
    "\n",
    "To będzie powodować błąd (logiczny) w uznaniu, której\n",
    "klasy metoda powinna być brana pod uwagę jako bardziej\n",
    "znacząca:\n",
    "\n",
    "- wg kolejności, to klasy A, gdyż jest pierwsza na liście\n",
    "- wg dziedziczenia, to klasy B, gdyż jest bardziej szczegółowa\n",
    "\"\"\"\n",
    "\n",
    "class C(A, B):\n",
    "    pass"
   ]
  },
  {
   "cell_type": "code",
   "execution_count": 27,
   "metadata": {},
   "outputs": [
    {
     "data": {
      "text/plain": [
       "[__main__.C, __main__.B, __main__.A, object]"
      ]
     },
     "execution_count": 27,
     "metadata": {},
     "output_type": "execute_result"
    }
   ],
   "source": [
    "class A(object):\n",
    "    pass\n",
    "\n",
    "class B(A):\n",
    "    pass\n",
    "\n",
    "\"\"\"\n",
    "Próbujemy zrobić przypadek, gdzie graf dziedziczenia\n",
    "wygląda następująco:\n",
    "\n",
    "    object\n",
    "    |\n",
    "    A\n",
    "    |\\\n",
    "    B |\n",
    "    |/\n",
    "    C\n",
    "\n",
    "To będzie poprawnie logicznie w uznawaniu, której\n",
    "klasy metoda powinna być brana pod uwagę jako bardziej\n",
    "znacząca:\n",
    "\n",
    "- wg kolejności, to klasy B, gdyż jest pierwsza na liście\n",
    "- wg dziedziczenia, to klasy B, gdyż jest bardziej szczegółowa\n",
    "\"\"\"\n",
    "\n",
    "class C(B, A):\n",
    "    pass\n",
    "\n",
    "c = C()\n",
    "C.mro()"
   ]
  },
  {
   "cell_type": "markdown",
   "metadata": {},
   "source": [
    "Dlaczego tak to wygląda? W dziedziczeniu chodzi o to, by\n",
    "korzystać z bardziej szczegółowej implementacji, czyli\n",
    "tej, która jest _bliżej_ w grafie (drzewie) dziedziczenia\n",
    "niż dalej. Dlatego też od python 2.3 prowadzono algorytm\n",
    "_C3 linearize_, który jest wykorzystywany do określenia,\n",
    "czy dziedziczenie jest poprawne.\n",
    "\n",
    "_C3 linearize_ jest\n",
    "\n",
    "Przykład implementacji można znaleźć w repozytorium:\n",
    "https://github.com/mikeboers/C3Linearize\n",
    "\n",
    "Polecam zapoznać się z dokumentem:\n",
    "https://www.python.org/download/releases/2.3/mro/\n",
    "\n",
    "Dokładniej akapitem _Bad Method Resolution Orders_.\n",
    "\n",
    "Z matematycznego punktu widzenia dziedziczenie tworzy graf, \n",
    "a dokładnie DAG, czyli _directed acyclic graph_, które to jest\n",
    "grafem:\n",
    "\n",
    "- kierunkowym - krawędzie nie są dwukierunkowe, ale od-do\n",
    "- mającym szczególny wierzchołek, do którego nie ma żadnych\n",
    "  krawędzi wchodzących, ale wszystkie są wychodzące - w python\n",
    "  jest to klasa _object_\n",
    "- nie ma cykli - nie może dziedziczyć klasa A po klasie B,\n",
    "  która dziedziczy po klasie A - to jest cykl w grafie\n",
    "- może mieć krawędzie schodzące się do tych samych węzłów,\n",
    "  czyli wielodziedziczenie\n",
    "\n",
    "Więcej na:\n",
    "\n",
    "- https://pl.wikipedia.org/wiki/Skierowany_graf_acykliczny\n",
    "- https://en.wikipedia.org/wiki/Directed_acyclic_graph\n",
    "\n",
    "Co do tego, czy dziedziczenie w pythonie spełnia warunki grafu\n",
    "DAG to mogę jedynie wnioskować, ale nie potrafię tego matematycznie\n",
    "udowodnić, że tak jest :) Cechy się zgadzają i najbardziej\n",
    "pasuje DAG, jako graf.\n",
    "\n",
    "Po grafie są różne sposoby przechodzenia. Polecam poszukać, jak\n",
    "działa DFS i BFS:\n",
    "\n",
    "- https://en.wikipedia.org/wiki/Breadth-first_search\n",
    "- https://en.wikipedia.org/wiki/Depth-first_search\n",
    "\n",
    "W pythonie można by powiedzieć, że rozwiązywanie metod, czyli\n",
    "_C3 Linearization_ jest podobne do DFS, ale są wyjątki, które\n",
    "powodują, że w przykładzie z błędem MRO, mamy jednak BFS. Trochę\n",
    "więcej wyjaśnienia tutaj:\n",
    "\n",
    "- https://stackoverflow.com/a/47117600\n",
    "- https://www.programiz.com/python-programming/multiple-inheritance\n",
    "- https://stackoverflow.com/a/1848647\n",
    "\n",
    "Dlaczego nie DFS? Gdyż mamy przypadek dziedziczenia \"diamentowego\"\n",
    "\n",
    "```\n",
    "      A \n",
    "      /\\\n",
    "     /  \\\n",
    "     B  C\n",
    "     \\  /\n",
    "      \\/\n",
    "      D\n",
    "\n",
    "class A(object):\n",
    "    x = 'pole publiczne'\n",
    "\n",
    "class B(A):\n",
    "    pass\n",
    "\n",
    "class C(A):\n",
    "    x = 'nadpisane pole publiczne'\n",
    "\n",
    "class D(B, C):\n",
    "    pass\n",
    "\n",
    "d = D()\n",
    "\n",
    "d.x # co jest pod tym polem publicznym?\n",
    "```\n",
    "\n",
    "W przypadku, gdyby MRO korzystało tylko z DFS, to mielibyśmy nie-\n",
    "intuicyjne rozwiązywanie nazw metody czy pól publicznych: mając pole\n",
    "publiczne/metodę w klasie A i nadpisane pole publiczne/metodę w klasie C.\n",
    "\n",
    "Korzystając tylko z algorytmu DFS, mielibyśmy dostęp do pola\n",
    "publicznego/metody z klasy A, a nie C - przeszukiwanie zakończyło by\n",
    "się na B, gdyż B dziedziczy po A, a A ma pole 'x'. A raczej chodzi o to, by było to pole z klasy C."
   ]
  },
  {
   "cell_type": "code",
   "execution_count": 28,
   "metadata": {},
   "outputs": [
    {
     "name": "stdout",
     "output_type": "stream",
     "text": [
      "nadpisane pole publiczne\n"
     ]
    }
   ],
   "source": [
    "class A(object):\n",
    "    x = 'pole publiczne'\n",
    "\n",
    "class B(A):\n",
    "    pass\n",
    "\n",
    "class C(A):\n",
    "    x = 'nadpisane pole publiczne'\n",
    "\n",
    "class D(B, C):\n",
    "    pass\n",
    "\n",
    "d = D()\n",
    "print(d.x)"
   ]
  },
  {
   "cell_type": "code",
   "execution_count": 29,
   "metadata": {},
   "outputs": [
    {
     "name": "stdout",
     "output_type": "stream",
     "text": [
      "+++ Dostępy do pól klasy i instancji klas\n",
      "klasa A, pole obiektu publiczne\n",
      "klasa B, pole obiektu publiczne\n",
      "Nie da się zrobić super na polu obiektu\n",
      "===\n",
      "klasa A, pole obiektu prywatne\n",
      "---\n",
      "klasa B, pole obiektu prywatne\n",
      "klasa A, pole obiektu prywatne\n",
      "===\n",
      "klasa A, pole klasy publiczne\n",
      "klasa A, pole klasy publiczne\n",
      "===\n",
      "klasa B, pole klasy publiczne\n",
      "klasa B, pole klasy publiczne\n",
      "Da się zrobić super na polu klasy!\n",
      "klasa A, pole klasy publiczne\n",
      "No prawie.. ;) bo trzeba podać referencję do obiektu klasy\n",
      "===\n",
      "klasa A, pole klasy publiczne\n",
      "---\n",
      "zmiana wartości pola publicznego klasy A będzie widoczna tylko dla tegoż obiektu\n",
      "klasa A, pole klasy publiczne\n",
      "klasa B, pole klasy publiczne\n",
      "---\n",
      "zmiana wartości pola publicznego klasy A będzie widoczna tylko dla tegoż obiektu\n",
      "zmiana wartości pola publicznego klasy A będzie widoczna tylko dla klasy i nowy obiektów tej klasy\n",
      "zmiana wartości pola publicznego klasy A będzie widoczna tylko dla klasy i nowy obiektów tej klasy\n",
      "klasa B, pole klasy publiczne\n",
      "===\n",
      "klasa A, pole klasy prywatne\n",
      "klasa A, pole klasy prywatne\n",
      "---\n",
      "klasa B, pole klasy prywatne\n",
      "klasa A, pole klasy prywatne\n",
      "klasa B, pole klasy prywatne\n",
      "klasa A, pole klasy prywatne\n",
      "+++ Wywołania metod\n",
      "klasa A, publiczna metoda\n",
      "klasa B, publiczna metoda\n",
      "klasa A, publiczna metoda\n",
      "===\n",
      "klasa A, prywatna metoda\n",
      "klasa B, prywatna metoda\n",
      "klasa A, prywatna metoda\n",
      "To akuratnie nie ma sensu, gdyż metod prywatnych nie da się przeciążyć ;)\n"
     ]
    }
   ],
   "source": [
    "\"\"\"\n",
    "To jest all-in-one przykład z wieloma scenariuszami.\n",
    "\n",
    "Więcej o super:\n",
    "- https://docs.python.org/3/library/functions.html#super\n",
    "- https://rhettinger.wordpress.com/2011/05/26/super-considered-super/\n",
    "\"\"\"\n",
    "\n",
    "class A(object):\n",
    "    __private = 'klasa A, pole klasy prywatne'\n",
    "    public = 'klasa A, pole klasy publiczne'\n",
    "\n",
    "    def __init__(self):\n",
    "        self.__private_init = 'klasa A, pole obiektu prywatne'\n",
    "        self.public_init = 'klasa A, pole obiektu publiczne'\n",
    "\n",
    "    def __private_method(self):\n",
    "        print('klasa A, prywatna metoda')\n",
    "\n",
    "    def public_method(self):\n",
    "        print('klasa A, publiczna metoda')\n",
    "\n",
    "class B(A):\n",
    "    __private = 'klasa B, pole klasy prywatne'\n",
    "    public = 'klasa B, pole klasy publiczne'\n",
    "\n",
    "    def __init__(self):\n",
    "        super(B, self).__init__()\n",
    "        self.__private_init = 'klasa B, pole obiektu prywatne'\n",
    "        self.public_init = 'klasa B, pole obiektu publiczne'\n",
    "\n",
    "    def __private_method(self):\n",
    "        print('klasa B, prywatna metoda')\n",
    "\n",
    "    def public_method(self):\n",
    "        print('klasa B, publiczna metoda')\n",
    "\n",
    "a, b = A(), B()\n",
    "print(\"+++ Dostępy do pól klasy i instancji klas\")\n",
    "print(a.public_init)\n",
    "print(b.public_init)\n",
    "try:\n",
    "    print(super(B, b).public_init)\n",
    "except AttributeError:\n",
    "    print('Nie da się zrobić super na polu obiektu')\n",
    "\n",
    "    print(\"===\")\n",
    "print(a._A__private_init)\n",
    "print('---')\n",
    "print(b._B__private_init)\n",
    "print(b._A__private_init)\n",
    "\n",
    "print(\"===\")\n",
    "print(a.public)\n",
    "print(A.public)\n",
    "\n",
    "print(\"===\")\n",
    "print(b.public)\n",
    "print(B.public)\n",
    "print(\"Da się zrobić super na polu klasy!\")\n",
    "print(super(B, b).public)\n",
    "try:\n",
    "    print(super(B).public)\n",
    "except AttributeError:\n",
    "    print(\"No prawie.. ;) bo trzeba podać referencję do \"\n",
    "          \"obiektu klasy\")\n",
    "\n",
    "print(\"===\")\n",
    "print(a.public)\n",
    "a.public = 'zmiana wartości pola publicznego klasy A '\\\n",
    "           'będzie widoczna tylko dla tegoż obiektu'\n",
    "print('---')\n",
    "print(a.public)\n",
    "print(A.public)\n",
    "print(B.public)\n",
    "A.public = 'zmiana wartości pola publicznego klasy A '\\\n",
    "           'będzie widoczna tylko dla klasy i nowy '\\\n",
    "           'obiektów tej klasy'\n",
    "print('---')\n",
    "aa = A()\n",
    "print(a.public)\n",
    "print(aa.public)\n",
    "print(A.public)\n",
    "print(B.public)\n",
    "\n",
    "print(\"===\")\n",
    "print(a._A__private)\n",
    "print(A._A__private)\n",
    "print('---')\n",
    "print(b._B__private)\n",
    "print(b._A__private)\n",
    "print(B._B__private)\n",
    "print(B._A__private)\n",
    "\n",
    "print(\"+++ Wywołania metod\")\n",
    "a.public_method()\n",
    "b.public_method()\n",
    "super(B, b).public_method()\n",
    "\n",
    "print(\"===\")\n",
    "a._A__private_method()\n",
    "b._B__private_method()\n",
    "b._A__private_method()\n",
    "try:\n",
    "    super(B, b)._B__private_method()\n",
    "except AttributeError:\n",
    "    print(\"To akuratnie nie ma sensu, gdyż metod prywatnych \"\n",
    "          \"nie da się przeciążyć ;)\")"
   ]
  },
  {
   "cell_type": "code",
   "execution_count": 30,
   "metadata": {},
   "outputs": [
    {
     "name": "stdout",
     "output_type": "stream",
     "text": [
      "+++ property\n",
      "klasa A\n",
      "klasa B\n",
      "klasa A\n",
      "===\n",
      "zmiana w a\n",
      "zmiana w b\n",
      "klasa A\n",
      "+++ static method\n",
      "klasa A, metoda statyczna\n",
      "klasa A, metoda statyczna\n",
      "---\n",
      "klasa A, metoda statyczna\n",
      "klasa A, metoda statyczna\n",
      "klasa A, metoda statyczna\n",
      "To nie działa..\n",
      "+++ class method\n",
      "klasa A, metoda klasy\n",
      "klasa A, metoda klasy\n",
      "---\n",
      "klasa A, metoda klasy\n",
      "klasa A, metoda klasy\n",
      "klasa A, metoda klasy\n",
      "To nie działa..\n",
      "+++ abstract method\n",
      "Nie można zrobić obiektu klasy, która dziedziczy po abc.ABC i ma coś z abstractmethod.\n",
      "Podobnie z klasą, która po niej dziedziczy, ale nie nadpisuje\n",
      "Ale z nadpisaną już można\n"
     ]
    }
   ],
   "source": [
    "\"\"\"\n",
    "To są przykłady z:\n",
    "- @property\n",
    "- @staticmethod\n",
    "- @classmethod\n",
    "- @abc.abstractmethod - https://docs.python.org/3/library/abc.html\n",
    "\n",
    "Na czym polega różnica między static a class method, opisuje fajnie\n",
    "https://stackoverflow.com/a/1669524 oraz komentarze z najwyższymi\n",
    "ocenami ;)\n",
    "\n",
    "Polecam także to:\n",
    "https://realpython.com/instance-class-and-static-methods-demystified/\n",
    "\"\"\"\n",
    "\n",
    "import abc\n",
    "\n",
    "\n",
    "class A(object):\n",
    "    def __init__(self):\n",
    "        self.__field = 'klasa A'\n",
    "    \n",
    "    @property\n",
    "    def field(self):\n",
    "        return self.__field\n",
    "    \n",
    "    # A tutaj mamy możliwość przypisania czegoś do .field ;)\n",
    "    @field.setter\n",
    "    def field(self, value):\n",
    "        self.__field = value\n",
    "    \n",
    "    @staticmethod\n",
    "    def static_method():\n",
    "        print('klasa A, metoda statyczna')\n",
    "    \n",
    "    @classmethod\n",
    "    def class_method(cls):\n",
    "        print('klasa A, metoda klasy')\n",
    "\n",
    "class B(A):\n",
    "    def __init__(self):\n",
    "        super(B, self).__init__()\n",
    "        self.__field = 'klasa B'\n",
    "        \n",
    "    @property\n",
    "    def field(self):\n",
    "        return self.__field\n",
    "    \n",
    "    # A tutaj mamy możliwość przypisania czegoś do .field ;)\n",
    "    @field.setter\n",
    "    def field(self, value):\n",
    "        self.__field = value\n",
    "    \n",
    "    @staticmethod\n",
    "    def static_method():\n",
    "        print('klasa A, metoda statyczna')\n",
    "    \n",
    "    @classmethod\n",
    "    def class_method(cls):\n",
    "        print('klasa A, metoda klasy')\n",
    "\n",
    "\n",
    "a, b = A(), B()\n",
    "\n",
    "print(\"+++ property\")\n",
    "print(a.field)\n",
    "print(b.field)\n",
    "print(super(B, b).field)\n",
    "\n",
    "print(\"===\")\n",
    "a.field = 'zmiana w a'\n",
    "b.field = 'zmiana w b'\n",
    "print(a.field)\n",
    "print(b.field)\n",
    "print(super(B, b).field)\n",
    "\n",
    "print(\"+++ static method\")\n",
    "a.static_method()\n",
    "A.static_method()\n",
    "print(\"---\")\n",
    "b.static_method()\n",
    "B.static_method()\n",
    "super(B, b).static_method()\n",
    "try:\n",
    "    super(B).static_method()\n",
    "except AttributeError:\n",
    "    print(\"To nie działa..\")\n",
    "\n",
    "print(\"+++ class method\")\n",
    "a.class_method()\n",
    "A.class_method()\n",
    "print(\"---\")\n",
    "b.class_method()\n",
    "B.class_method()\n",
    "super(B, b).class_method()\n",
    "try:\n",
    "    super(B).class_method()\n",
    "except AttributeError:\n",
    "    print(\"To nie działa..\")\n",
    "\n",
    "print(\"+++ abstract method\")\n",
    "\n",
    "\n",
    "class A(abc.ABC):\n",
    "    @abc.abstractmethod\n",
    "    def method(self):\n",
    "        pass\n",
    "\n",
    "class B(A):\n",
    "    pass\n",
    "\n",
    "class C(A):\n",
    "    def method(self):\n",
    "        pass\n",
    "    \n",
    "try:\n",
    "    a = A()\n",
    "except TypeError:\n",
    "    print(\"Nie można zrobić obiektu klasy, która dziedziczy po \"\n",
    "          \"abc.ABC i ma coś z abstractmethod.\")\n",
    "try:\n",
    "    b = B()\n",
    "except TypeError:\n",
    "    print(\"Podobnie z klasą, która po niej dziedziczy, ale nie \"\n",
    "          \"nadpisuje\")\n",
    "c = C()\n",
    "print(\"Ale z nadpisaną już można\")"
   ]
  }
 ],
 "metadata": {
  "kernelspec": {
   "display_name": "Python 3",
   "language": "python",
   "name": "python3"
  },
  "language_info": {
   "codemirror_mode": {
    "name": "ipython",
    "version": 3
   },
   "file_extension": ".py",
   "mimetype": "text/x-python",
   "name": "python",
   "nbconvert_exporter": "python",
   "pygments_lexer": "ipython3",
   "version": "3.7.3"
  }
 },
 "nbformat": 4,
 "nbformat_minor": 2
}
