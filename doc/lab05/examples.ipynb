{
 "cells": [
  {
   "cell_type": "markdown",
   "metadata": {},
   "source": [
    "Typy wbudowane - wybrane przykłady:\n",
    "\n",
    "- [prawda/fałsz](https://docs.python.org/3/library/stdtypes.html#truth-value-testing)\n",
    "- [numeryczne](https://docs.python.org/3/library/stdtypes.html#numeric-types-int-float-complex) `int` i [`float` ](https://docs.python.org/3/tutorial/floatingpoint.html) zgodna z IEEE-754\n",
    "- [ciągi znaków](https://docs.python.org/3/library/stdtypes.html#text-sequence-type-str)\n",
    "- [listy, krotki](https://docs.python.org/3/library/stdtypes.html#sequence-types-list-tuple-range)\n",
    "- [zbiory](https://docs.python.org/3/library/stdtypes.html#set-types-set-frozenset)\n",
    "- [słowniki](https://docs.python.org/3/library/stdtypes.html#mapping-types-dict)"
   ]
  },
  {
   "cell_type": "code",
   "execution_count": 1,
   "metadata": {},
   "outputs": [
    {
     "data": {
      "text/plain": [
       "bool"
      ]
     },
     "execution_count": 1,
     "metadata": {},
     "output_type": "execute_result"
    }
   ],
   "source": [
    "i = True\n",
    "type(i)"
   ]
  },
  {
   "cell_type": "code",
   "execution_count": 2,
   "metadata": {},
   "outputs": [
    {
     "data": {
      "text/plain": [
       "float"
      ]
     },
     "execution_count": 2,
     "metadata": {},
     "output_type": "execute_result"
    }
   ],
   "source": [
    "i = 1.0\n",
    "type(i)"
   ]
  },
  {
   "cell_type": "code",
   "execution_count": 3,
   "metadata": {},
   "outputs": [
    {
     "data": {
      "text/plain": [
       "int"
      ]
     },
     "execution_count": 3,
     "metadata": {},
     "output_type": "execute_result"
    }
   ],
   "source": [
    "i = 1\n",
    "type(i)"
   ]
  },
  {
   "cell_type": "code",
   "execution_count": 4,
   "metadata": {},
   "outputs": [
    {
     "data": {
      "text/plain": [
       "str"
      ]
     },
     "execution_count": 4,
     "metadata": {},
     "output_type": "execute_result"
    }
   ],
   "source": [
    "i = '1'\n",
    "type(i)"
   ]
  },
  {
   "cell_type": "code",
   "execution_count": 5,
   "metadata": {},
   "outputs": [
    {
     "data": {
      "text/plain": [
       "list"
      ]
     },
     "execution_count": 5,
     "metadata": {},
     "output_type": "execute_result"
    }
   ],
   "source": [
    "i = [0, 1, 2]\n",
    "type(i)"
   ]
  },
  {
   "cell_type": "code",
   "execution_count": 6,
   "metadata": {},
   "outputs": [
    {
     "data": {
      "text/plain": [
       "tuple"
      ]
     },
     "execution_count": 6,
     "metadata": {},
     "output_type": "execute_result"
    }
   ],
   "source": [
    "i = (0, 1, 2)\n",
    "type(i)"
   ]
  },
  {
   "cell_type": "code",
   "execution_count": 7,
   "metadata": {},
   "outputs": [
    {
     "data": {
      "text/plain": [
       "set"
      ]
     },
     "execution_count": 7,
     "metadata": {},
     "output_type": "execute_result"
    }
   ],
   "source": [
    "i = {0, 1, 2}\n",
    "type(i)"
   ]
  },
  {
   "cell_type": "code",
   "execution_count": 8,
   "metadata": {},
   "outputs": [
    {
     "data": {
      "text/plain": [
       "dict"
      ]
     },
     "execution_count": 8,
     "metadata": {},
     "output_type": "execute_result"
    }
   ],
   "source": [
    "i = {0:'0', 1:'1', 2:'2'}\n",
    "type(i)"
   ]
  },
  {
   "cell_type": "markdown",
   "metadata": {},
   "source": [
    "Instrukcje [sterujące](https://docs.python.org/3/tutorial/controlflow.html):\n",
    "\n",
    "- warunkowe [`if`](https://docs.python.org/3/tutorial/controlflow.html#if-statements)\n",
    "- pętle [`while`](https://docs.python.org/3/tutorial/introduction.html#first-steps-towards-programming) i [`for`](https://docs.python.org/3/tutorial/controlflow.html#for-statements)\n",
    "  - sterowanie w pętli przy pomocy [`break`, `continue` i `else`](https://docs.python.org/3/tutorial/controlflow.html#break-and-continue-statements-and-else-clauses-on-loops)\n",
    "- obsługi wyjątków przy pomocy [`try..except..else..finally`](https://docs.python.org/3/tutorial/errors.html#handling-exceptions)\n",
    "- kontekstu przy pomocy `with`"
   ]
  },
  {
   "cell_type": "code",
   "execution_count": 9,
   "metadata": {},
   "outputs": [
    {
     "name": "stdout",
     "output_type": "stream",
     "text": [
      "OK\n"
     ]
    }
   ],
   "source": [
    "i = True\n",
    "if i:\n",
    "    print('OK')\n",
    "else:\n",
    "    print('Nie OK')"
   ]
  },
  {
   "cell_type": "code",
   "execution_count": 10,
   "metadata": {},
   "outputs": [
    {
     "name": "stdout",
     "output_type": "stream",
     "text": [
      "Wieksze lub rowne 1\n"
     ]
    }
   ],
   "source": [
    "i = 2\n",
    "if i < 1:\n",
    "    print('Mniejsze niz 1')\n",
    "else:\n",
    "    print('Wieksze lub rowne 1')"
   ]
  },
  {
   "cell_type": "code",
   "execution_count": 11,
   "metadata": {},
   "outputs": [
    {
     "name": "stdout",
     "output_type": "stream",
     "text": [
      "Rowne 1\n"
     ]
    }
   ],
   "source": [
    "i = 1\n",
    "if i < 1:\n",
    "    print('Mniejsze niz 1')\n",
    "elif i > 1:\n",
    "    print('Wieksze niz 1')\n",
    "else:  # elif i == 1\n",
    "    print('Rowne 1')"
   ]
  },
  {
   "cell_type": "code",
   "execution_count": 12,
   "metadata": {},
   "outputs": [
    {
     "name": "stdout",
     "output_type": "stream",
     "text": [
      "1\n",
      "2\n",
      "I po petli\n",
      "3\n"
     ]
    }
   ],
   "source": [
    "i = 1\n",
    "while i < 3:\n",
    "    print(i)\n",
    "    i = i + 1\n",
    "print('I po petli')\n",
    "print(i)"
   ]
  },
  {
   "cell_type": "code",
   "execution_count": 13,
   "metadata": {},
   "outputs": [
    {
     "name": "stdout",
     "output_type": "stream",
     "text": [
      "1\n",
      "2\n",
      "3\n",
      "Koncz szybciej..\n",
      "Wynik koncowy 3\n"
     ]
    }
   ],
   "source": [
    "i = 1\n",
    "while i < 5:\n",
    "    print(i)\n",
    "    if i % 3 == 0:\n",
    "        print('Koncz szybciej..')\n",
    "        break\n",
    "    i = i + 1\n",
    "print('Wynik koncowy %d' % i)"
   ]
  },
  {
   "cell_type": "code",
   "execution_count": 14,
   "metadata": {},
   "outputs": [
    {
     "name": "stdout",
     "output_type": "stream",
     "text": [
      "Nic nie zrobilem..\n"
     ]
    }
   ],
   "source": [
    "i = 3\n",
    "while i < 2:\n",
    "    print(i)\n",
    "else:\n",
    "    print('Nic nie zrobilem..')"
   ]
  },
  {
   "cell_type": "code",
   "execution_count": 15,
   "metadata": {},
   "outputs": [
    {
     "name": "stdout",
     "output_type": "stream",
     "text": [
      "1\n",
      "Mnoze przez 3 i dodaje 1 do 1\n",
      "4\n",
      "Dodaje 1 do 4\n",
      "5\n",
      "Mnoze przez 3 i dodaje 1 do 5\n",
      "16\n",
      "Dodaje 1 do 16\n",
      "17\n",
      "Mnoze przez 3 i dodaje 1 do 17\n",
      "Wynik koncowy 52\n"
     ]
    }
   ],
   "source": [
    "i = 1\n",
    "while i < 21:\n",
    "    print(i)\n",
    "    if i % 2 == 1:\n",
    "        print('Mnoze przez 3 i dodaje 1 do %d' % i)\n",
    "        i = i * 3 + 1\n",
    "        continue\n",
    "    print('Dodaje 1 do %d' % i)\n",
    "    i = i + 1\n",
    "print('Wynik koncowy %d' % i)"
   ]
  },
  {
   "cell_type": "markdown",
   "metadata": {},
   "source": [
    "Typy, które można wywołać:\n",
    "\n",
    "- [funkcje](https://docs.python.org/3/tutorial/controlflow.html#defining-functions)\n",
    "  - [lambda](https://docs.python.org/3/tutorial/controlflow.html#lambda-expressions)\n",
    "- [klasy](https://docs.python.org/3/tutorial/classes.html#class-objects) aby utworzy obiekty danej klasy\n",
    "  - [metody]()\n",
    "- [generatory](https://docs.python.org/3/tutorial/classes.html#generators)\n",
    "  - [list comprehension](https://docs.python.org/3/tutorial/datastructures.html#list-comprehensions)\n",
    "- [dekoratory](https://docs.python.org/3/glossary.html#term-decorator)"
   ]
  },
  {
   "cell_type": "code",
   "execution_count": 16,
   "metadata": {},
   "outputs": [
    {
     "name": "stdout",
     "output_type": "stream",
     "text": [
      "Cos tu napisze..\n"
     ]
    }
   ],
   "source": [
    "def func(a):\n",
    "    print(a)\n",
    "\n",
    "func('Cos tu napisze..')"
   ]
  },
  {
   "cell_type": "code",
   "execution_count": 17,
   "metadata": {},
   "outputs": [
    {
     "name": "stdout",
     "output_type": "stream",
     "text": [
      "5\n"
     ]
    }
   ],
   "source": [
    "func = lambda a: a+2\n",
    "\n",
    "print(func(3))"
   ]
  },
  {
   "cell_type": "code",
   "execution_count": 18,
   "metadata": {},
   "outputs": [
    {
     "name": "stdout",
     "output_type": "stream",
     "text": [
      "Testowy obiekt: dodatkowy tekst\n"
     ]
    }
   ],
   "source": [
    "class Object(object):\n",
    "    def __init__(self, attr):\n",
    "        self.__attr = attr\n",
    "    def do_something(self, param):\n",
    "        return '%s: %s' % (self.__attr, param)\n",
    "\n",
    "o = Object('Testowy obiekt')\n",
    "print(o.do_something('dodatkowy tekst'))"
   ]
  },
  {
   "cell_type": "code",
   "execution_count": 19,
   "metadata": {},
   "outputs": [
    {
     "name": "stdout",
     "output_type": "stream",
     "text": [
      "Obiekt klasy A\n",
      "Obiekt klasy A\n",
      "Obiekt klasy B\n",
      "Obiekt klasy A\n"
     ]
    }
   ],
   "source": [
    "class A(object):\n",
    "    def method(self):\n",
    "        print('Obiekt klasy A')\n",
    "    def base_method(self):\n",
    "        print('Obiekt klasy A')\n",
    "\n",
    "class B(A):\n",
    "    def method(self):\n",
    "        print('Obiekt klasy B')\n",
    "\n",
    "a = A()\n",
    "b = B()\n",
    "a.method()\n",
    "a.base_method()\n",
    "b.method()\n",
    "b.base_method()"
   ]
  },
  {
   "cell_type": "code",
   "execution_count": 20,
   "metadata": {},
   "outputs": [
    {
     "name": "stdout",
     "output_type": "stream",
     "text": [
      "Obiekt klasy A\n",
      "Obiekt klasy B\n",
      "Obiekt klasy A\n"
     ]
    }
   ],
   "source": [
    "class A(object):\n",
    "    def method(self):\n",
    "        print('Obiekt klasy A')\n",
    "\n",
    "class B(object):\n",
    "    def method(self):\n",
    "        print('Obiekt klasy B')\n",
    "\n",
    "class C(A, B):\n",
    "    pass\n",
    "\n",
    "a, b, c = A(), B(), C()\n",
    "a.method()\n",
    "b.method()\n",
    "c.method()"
   ]
  },
  {
   "cell_type": "code",
   "execution_count": 21,
   "metadata": {},
   "outputs": [
    {
     "name": "stdout",
     "output_type": "stream",
     "text": [
      "Obiekt klasy A\n",
      "Obiekt klasy B\n",
      "Obiekt klasy B\n"
     ]
    }
   ],
   "source": [
    "class A(object):\n",
    "    def method(self):\n",
    "        print('Obiekt klasy A')\n",
    "\n",
    "class B(object):\n",
    "    def method(self):\n",
    "        print('Obiekt klasy B')\n",
    "\n",
    "class C(B, A):\n",
    "    pass\n",
    "\n",
    "a, b, c = A(), B(), C()\n",
    "a.method()\n",
    "b.method()\n",
    "c.method()"
   ]
  },
  {
   "cell_type": "code",
   "execution_count": 22,
   "metadata": {},
   "outputs": [
    {
     "ename": "TypeError",
     "evalue": "Cannot create a consistent method resolution\norder (MRO) for bases A, B",
     "output_type": "error",
     "traceback": [
      "\u001b[0;31m---------------------------------------------------------------------------\u001b[0m",
      "\u001b[0;31mTypeError\u001b[0m                                 Traceback (most recent call last)",
      "\u001b[0;32m<ipython-input-22-b193091c3440>\u001b[0m in \u001b[0;36m<module>\u001b[0;34m\u001b[0m\n\u001b[1;32m      7\u001b[0m         \u001b[0mprint\u001b[0m\u001b[0;34m(\u001b[0m\u001b[0;34m'Obiekt klasy B'\u001b[0m\u001b[0;34m)\u001b[0m\u001b[0;34m\u001b[0m\u001b[0;34m\u001b[0m\u001b[0m\n\u001b[1;32m      8\u001b[0m \u001b[0;34m\u001b[0m\u001b[0m\n\u001b[0;32m----> 9\u001b[0;31m \u001b[0;32mclass\u001b[0m \u001b[0mC\u001b[0m\u001b[0;34m(\u001b[0m\u001b[0mA\u001b[0m\u001b[0;34m,\u001b[0m \u001b[0mB\u001b[0m\u001b[0;34m)\u001b[0m\u001b[0;34m:\u001b[0m\u001b[0;34m\u001b[0m\u001b[0;34m\u001b[0m\u001b[0m\n\u001b[0m\u001b[1;32m     10\u001b[0m     \u001b[0;32mdef\u001b[0m \u001b[0mmethod\u001b[0m\u001b[0;34m(\u001b[0m\u001b[0mself\u001b[0m\u001b[0;34m)\u001b[0m\u001b[0;34m:\u001b[0m\u001b[0;34m\u001b[0m\u001b[0;34m\u001b[0m\u001b[0m\n\u001b[1;32m     11\u001b[0m         \u001b[0mprint\u001b[0m\u001b[0;34m(\u001b[0m\u001b[0;34m'Obiekt klasy C'\u001b[0m\u001b[0;34m)\u001b[0m\u001b[0;34m\u001b[0m\u001b[0;34m\u001b[0m\u001b[0m\n",
      "\u001b[0;31mTypeError\u001b[0m: Cannot create a consistent method resolution\norder (MRO) for bases A, B"
     ]
    }
   ],
   "source": [
    "class A(object):\n",
    "    def method(self):\n",
    "        print('Obiekt klasy A')\n",
    "\n",
    "class B(A):\n",
    "    def method(self):\n",
    "        print('Obiekt klasy B')\n",
    "\n",
    "class C(A, B):\n",
    "    def method(self):\n",
    "        print('Obiekt klasy C')"
   ]
  },
  {
   "cell_type": "code",
   "execution_count": 23,
   "metadata": {},
   "outputs": [
    {
     "name": "stdout",
     "output_type": "stream",
     "text": [
      "Obiekt klasy C\n"
     ]
    }
   ],
   "source": [
    "class A(object):\n",
    "    def method(self):\n",
    "        print('Obiekt klasy A')\n",
    "\n",
    "class B(A):\n",
    "    def method(self):\n",
    "        print('Obiekt klasy B')\n",
    "\n",
    "class C(B, A):\n",
    "    def method(self):\n",
    "        print('Obiekt klasy C')\n",
    "\n",
    "c = C()\n",
    "c.method()"
   ]
  },
  {
   "cell_type": "code",
   "execution_count": 24,
   "metadata": {},
   "outputs": [
    {
     "name": "stdout",
     "output_type": "stream",
     "text": [
      "Publiczne pole obiektu klasy A\n",
      "Publiczne pole obiektu klasy B\n"
     ]
    }
   ],
   "source": [
    "class A(object):\n",
    "    def __init__(self):\n",
    "        self.public = 'Publiczne pole obiektu klasy A'\n",
    "    def method(self):\n",
    "        print(self.public)\n",
    "\n",
    "class B(A):\n",
    "    def __init__(self):\n",
    "        self.public = 'Publiczne pole obiektu klasy B'\n",
    "\n",
    "a, b = A(), B()\n",
    "a.method()\n",
    "b.method()"
   ]
  },
  {
   "cell_type": "code",
   "execution_count": 25,
   "metadata": {},
   "outputs": [
    {
     "name": "stdout",
     "output_type": "stream",
     "text": [
      "Prywatne pole obiektu klasy A\n"
     ]
    },
    {
     "ename": "AttributeError",
     "evalue": "'B' object has no attribute '_A__private'",
     "output_type": "error",
     "traceback": [
      "\u001b[0;31m---------------------------------------------------------------------------\u001b[0m",
      "\u001b[0;31mAttributeError\u001b[0m                            Traceback (most recent call last)",
      "\u001b[0;32m<ipython-input-25-d46c44b27ffc>\u001b[0m in \u001b[0;36m<module>\u001b[0;34m\u001b[0m\n\u001b[1;32m     11\u001b[0m \u001b[0ma\u001b[0m\u001b[0;34m,\u001b[0m \u001b[0mb\u001b[0m \u001b[0;34m=\u001b[0m \u001b[0mA\u001b[0m\u001b[0;34m(\u001b[0m\u001b[0;34m)\u001b[0m\u001b[0;34m,\u001b[0m \u001b[0mB\u001b[0m\u001b[0;34m(\u001b[0m\u001b[0;34m)\u001b[0m\u001b[0;34m\u001b[0m\u001b[0;34m\u001b[0m\u001b[0m\n\u001b[1;32m     12\u001b[0m \u001b[0ma\u001b[0m\u001b[0;34m.\u001b[0m\u001b[0mmethod\u001b[0m\u001b[0;34m(\u001b[0m\u001b[0;34m)\u001b[0m\u001b[0;34m\u001b[0m\u001b[0;34m\u001b[0m\u001b[0m\n\u001b[0;32m---> 13\u001b[0;31m \u001b[0mb\u001b[0m\u001b[0;34m.\u001b[0m\u001b[0mmethod\u001b[0m\u001b[0;34m(\u001b[0m\u001b[0;34m)\u001b[0m\u001b[0;34m\u001b[0m\u001b[0;34m\u001b[0m\u001b[0m\n\u001b[0m",
      "\u001b[0;32m<ipython-input-25-d46c44b27ffc>\u001b[0m in \u001b[0;36mmethod\u001b[0;34m(self)\u001b[0m\n\u001b[1;32m      3\u001b[0m         \u001b[0mself\u001b[0m\u001b[0;34m.\u001b[0m\u001b[0m__private\u001b[0m \u001b[0;34m=\u001b[0m \u001b[0;34m'Prywatne pole obiektu klasy A'\u001b[0m\u001b[0;34m\u001b[0m\u001b[0;34m\u001b[0m\u001b[0m\n\u001b[1;32m      4\u001b[0m     \u001b[0;32mdef\u001b[0m \u001b[0mmethod\u001b[0m\u001b[0;34m(\u001b[0m\u001b[0mself\u001b[0m\u001b[0;34m)\u001b[0m\u001b[0;34m:\u001b[0m\u001b[0;34m\u001b[0m\u001b[0;34m\u001b[0m\u001b[0m\n\u001b[0;32m----> 5\u001b[0;31m         \u001b[0mprint\u001b[0m\u001b[0;34m(\u001b[0m\u001b[0mself\u001b[0m\u001b[0;34m.\u001b[0m\u001b[0m__private\u001b[0m\u001b[0;34m)\u001b[0m\u001b[0;34m\u001b[0m\u001b[0;34m\u001b[0m\u001b[0m\n\u001b[0m\u001b[1;32m      6\u001b[0m \u001b[0;34m\u001b[0m\u001b[0m\n\u001b[1;32m      7\u001b[0m \u001b[0;32mclass\u001b[0m \u001b[0mB\u001b[0m\u001b[0;34m(\u001b[0m\u001b[0mA\u001b[0m\u001b[0;34m)\u001b[0m\u001b[0;34m:\u001b[0m\u001b[0;34m\u001b[0m\u001b[0;34m\u001b[0m\u001b[0m\n",
      "\u001b[0;31mAttributeError\u001b[0m: 'B' object has no attribute '_A__private'"
     ]
    }
   ],
   "source": [
    "class A(object):\n",
    "    def __init__(self):\n",
    "        self.__private = 'Prywatne pole obiektu klasy A'\n",
    "    def method(self):\n",
    "        print(self.__private)\n",
    "\n",
    "class B(A):\n",
    "    def __init__(self):\n",
    "        self.__private = 'Prywatne pole obiektu klasy B'\n",
    "\n",
    "a, b = A(), B()\n",
    "a.method()\n",
    "b.method()"
   ]
  }
 ],
 "metadata": {
  "kernelspec": {
   "display_name": "Python 3",
   "language": "python",
   "name": "python3"
  },
  "language_info": {
   "codemirror_mode": {
    "name": "ipython",
    "version": 3
   },
   "file_extension": ".py",
   "mimetype": "text/x-python",
   "name": "python",
   "nbconvert_exporter": "python",
   "pygments_lexer": "ipython3",
   "version": "3.7.3"
  }
 },
 "nbformat": 4,
 "nbformat_minor": 2
}
